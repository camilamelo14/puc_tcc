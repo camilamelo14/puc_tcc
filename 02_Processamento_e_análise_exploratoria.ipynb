{
  "nbformat": 4,
  "nbformat_minor": 0,
  "metadata": {
    "colab": {
      "name": "02. Processamento e análise exploratoria.ipynb",
      "provenance": [],
      "collapsed_sections": []
    },
    "kernelspec": {
      "name": "python3",
      "display_name": "Python 3"
    }
  },
  "cells": [
    {
      "cell_type": "markdown",
      "metadata": {
        "id": "Sh3Gqtyu-wrJ"
      },
      "source": [
        "# Processamento/Tratamento de Dados\n",
        "\n",
        "Nesta etapa do trabalho iremos tratar os dados coletados, realizando a tratativa dos valores ausentes, duplicados (caso exista)e ajuste do dataset para aplicação modelo ML.\n",
        "\n",
        "As bibliotecas utilizadas nesta etapa foram:"
      ]
    },
    {
      "cell_type": "code",
      "metadata": {
        "id": "pJzVk0TjABLY"
      },
      "source": [
        "#### BIBLIOTECAS ####\n",
        "import pandas as pd\n",
        "import re\n",
        "import pickle\n",
        "import matplotlib.pyplot as plt\n",
        "#!pip install seaborn\n",
        "import seaborn as sns\n",
        "\n",
        "from unicodedata import normalize\n",
        "from matplotlib import pyplot as plt\n",
        "from plotnine import *\n",
        "\n",
        "%matplotlib inline\n",
        "%load_ext google.colab.data_table\n",
        "#!pip install plotly"
      ],
      "execution_count": null,
      "outputs": []
    },
    {
      "cell_type": "markdown",
      "metadata": {
        "id": "U3uPKxdiAJwP"
      },
      "source": [
        "Criamos algumas funções que serão utilizadas com frequencia nesta etapa do processo, sendo elas:\n",
        "\n",
        "*   A função \"**trata_texto**\" é utilizada para retirar caracteres especiais e manter todo o campo em maiúsculo;\n",
        "*   A função \"**trata_nome_paises**\" é utilizada para unificar a nomenclatura dos países, essa função será modificada nas futuras etapas para conter as diferenciações encontradas no decorrer da análise.\n",
        "*   A função \"**comprimir_arquivo**\" É utilizada para comprimir os datasets finais no formato pickle para ganhar agilidade no carregamento do dataset no momento da aplicação do modelo ML.\n",
        "*   A função \"**carregar_arquivo**\" É utilizada para carregar os datasets armazenados em pickle para dataframe.\n",
        "\n",
        "\n"
      ]
    },
    {
      "cell_type": "code",
      "metadata": {
        "id": "Ksu1PKHMyVwx"
      },
      "source": [
        "#### FUNÇÕES #####\n",
        "def trata_texto(texto):\n",
        "    tratado = normalize('NFKD', texto).encode('ASCII', 'ignore').decode('ASCII')\n",
        "    return re.search('[^0-9]+', tratado).group(0).strip().upper()\n",
        "  \n",
        "def trata_nome_paises(dataset,campo):\n",
        "    dataset.loc[dataset.Country == 'BAHAMAS',campo] = 'THE BAHAMAS'\n",
        "    dataset.loc[dataset.Country == 'BRUNEI DARUSSALAM',campo] = 'BRUNEI'\n",
        "    dataset.loc[dataset.Country == 'CABO VERDE',campo] = 'CAPE VERDE'\n",
        "    dataset.loc[dataset.Country == 'CZECHIA',campo] = 'CZECH REPUBLIC'\n",
        "    dataset.loc[dataset.Country == 'REPUBLIC OF MOLDOVA',campo] = 'MOLDOVA'\n",
        "    dataset.loc[dataset.Country == 'SYRIAN ARAB REPUBLIC',campo] = 'SYRIA'\n",
        "    dataset.loc[dataset.Country == 'THE FORMER YUGOSLAV REPUBLIC OF MACEDONIA',campo] = 'MACEDONIA'\n",
        "    dataset.loc[dataset.Country == 'UKRAINE(D)',campo] = 'UKRAINE'\n",
        "    dataset.loc[dataset.Country == 'UNITED STATES OF AMERICA',campo] = 'UNITED STATES'\n",
        "    dataset.loc[dataset.Country == 'VENEZUELA (BOLIVARIAN REPUBLIC OF)',campo] = 'VENEZUELA'\n",
        "    dataset.loc[dataset.Country == 'RUSSIA',campo] = 'RUSSIAN FEDERATION'\n",
        "    dataset.loc[dataset.Country == 'CONGO [DRC]',campo] = 'DEMOCRATIC REPUBLIC OF THE CONGO'\n",
        "    dataset.loc[dataset.Country == 'CONGO [REPUBLIC]',campo] = 'CONGO'\n",
        "    dataset.loc[dataset.Country == 'PALESTINIAN TERRITORIES',campo] = 'PALESTINE'\n",
        "    dataset.loc[dataset.Country == 'MACEDONIA [FYROM]',campo] = 'MACEDONIA'\n",
        "    dataset.loc[dataset.Country == 'GAMBIA',campo] = 'THE GAMBIA'\n",
        "    dataset.loc[dataset.Country == 'MYANMAR [BURMA]',campo] = 'MYANMAR'\n",
        "    dataset.loc[dataset.Country == 'U.S. VIRGIN ISLANDS',campo] = 'VIRGIN ISLANDS, U.S.'\n",
        "    dataset.loc[dataset.Country == 'MICRONESIA',campo] = 'FEDERATED STATES OF MICRONESIA'\n",
        "    dataset.loc[dataset.Country == \"C?TE D'IVOIRE\",campo] = \"COTE D'IVOIRE\"\n",
        "    dataset.loc[dataset.Country == \"GUINEA BISSAU\",campo] = \"GUINEA-BISSAU\"\n",
        "    dataset.loc[dataset.Country == \"TIMOR LESTE\",campo] = \"TIMOR-LESTE\"\n",
        "    dataset.loc[dataset.Country == \"CONGO (DEMOCRATIC REPUBLIC OF THE)\",campo] = \"DEMOCRATIC REPUBLIC OF THE CONGO\"\n",
        "    dataset.loc[dataset.Country == \"PALESTINA\",campo] = \"PALESTINE\"\n",
        "    dataset.loc[dataset.Country == \"VIRGIN ISLANDS\",campo] = \"VIRGIN ISLANDS, U.S.\"\n",
        "    \n",
        "    return dataset\n",
        "\n",
        "def comprimir_arquivo(dataset,path,filename):\n",
        "  dataset.to_pickle(path+filename+'.pkl')\n",
        "  dataset.to_csv(path+filename+'.csv',sep=',',encoding='utf-8',index=False)\n",
        "  #dataset.to_excel(path+filename+'.xlsx')\n",
        "  \n",
        "def carregar_arquivo(path,filename):\n",
        "  dataset = pickle.load( open(path+filename+'.pkl', \"rb\" ) )\n",
        "  return dataset"
      ],
      "execution_count": null,
      "outputs": []
    },
    {
      "cell_type": "markdown",
      "metadata": {
        "id": "LZYeEXUqGeff"
      },
      "source": [
        "Realiza a conexão com o **Google Drive** para carregar os dataset armazenados em nosso repositório. (Datasets apresentados na etapa de [coleta](https://drive.google.com/file/d/1GgD1rde7BHrdsP-KwYz4s3ZVluw9iaCd/view?usp=sharing))"
      ]
    },
    {
      "cell_type": "code",
      "metadata": {
        "id": "kplwGlPhy07H",
        "outputId": "9a0a0823-36b3-418b-c038-1e2dbef90718",
        "colab": {
          "base_uri": "https://localhost:8080/",
          "height": 34
        }
      },
      "source": [
        "# Montagem do drive\n",
        "from google.colab import drive\n",
        "drive.mount('/content/maejemison', force_remount=True)\n",
        "\n",
        "path = '/content/maejemison/My Drive/TCC_PUC/02.analise_exploratoria/'"
      ],
      "execution_count": null,
      "outputs": [
        {
          "output_type": "stream",
          "text": [
            "Mounted at /content/maejemison\n"
          ],
          "name": "stdout"
        }
      ]
    },
    {
      "cell_type": "markdown",
      "metadata": {
        "id": "wnNmLXh4AOSO"
      },
      "source": [
        "Neste trecho do código realizamos a conexão com ***BigQuery*** e importamos os dados até o momento coletados."
      ]
    },
    {
      "cell_type": "code",
      "metadata": {
        "id": "KvEbZd2gygLh",
        "outputId": "acf9aba9-d44a-400f-f74e-13a16deb7dd7",
        "colab": {
          "base_uri": "https://localhost:8080/",
          "height": 34
        }
      },
      "source": [
        "from google.colab import auth\n",
        "auth.authenticate_user()\n",
        "print('Authenticated')\n",
        "project_id = 'maejemison'"
      ],
      "execution_count": null,
      "outputs": [
        {
          "output_type": "stream",
          "text": [
            "Authenticated\n"
          ],
          "name": "stdout"
        }
      ]
    },
    {
      "cell_type": "code",
      "metadata": {
        "id": "5uz3MEwFy3qk"
      },
      "source": [
        "#################\n",
        "## DATA IMPORT ##\n",
        "#################\n",
        "\n",
        "#Qualidade dos dados WHO\n",
        "who_data_quality = pd.read_excel(path+'data/Country_Data_Quality_WHO.xlsx', \n",
        "                  encoding='utf-8', \n",
        "                  na_values='-',\n",
        "                  names=['Country','Year','Average_Usuability','Completeness','Completeness_end',\n",
        "                         'Garbage_frac','Garbage_frac_end','Notes'])\n",
        "\n",
        "who_data_quality = who_data_quality.sort_values(by='Country')\n",
        "who_data_quality.drop('Notes', axis=1, inplace=True)\n",
        "\n",
        "#Dados do IHME\n",
        "ihme_data = pd.read_csv(path+'data/IHME-GBD_2017_DATA-a27917f2/IHME-GBD_2017_DATA-a27917f2.csv', \n",
        "                  skiprows=1, \n",
        "                  sep=',', \n",
        "                  encoding='utf-8', \n",
        "                  na_values='-', \n",
        "                  engine='python',\n",
        "                  names=['Metric','Country','Sex','Age','Cause_of_Death','Rate','Year',\n",
        "                         'Total','Upper','Lower'])\n",
        "\n",
        "#Dados do WHO\n",
        "who_data = pd.read_csv(path+'data/WHO_SDGSUICIDE.csv', \n",
        "                  skiprows=2,\n",
        "                  sep=',', \n",
        "                  encoding='utf-8', \n",
        "                  na_values='-', \n",
        "                  engine='python',\n",
        "                  names=['Country','Year','DC','Male_DC','Female_DC',\n",
        "                         'SU','Male_SU','Female_SU'])\n",
        "\n",
        "#Dataset de localização\n",
        "#Origem: http://ghdx.healthdata.org/sites/default/files/ihme_query_tool/IHME_GBD_2017_CODEBOOK.zip\n",
        "location_details = pd.read_excel(path+'data/IHME_GBD_2017_ALL_LOCATIONS_HIERARCHIES_Y2018M11D18.XLSX',\n",
        "                  encoding='utf-8',\n",
        "                  na_values='-')\n",
        "location_details = location_details[(location_details['location_set_version_id'] == 423)]\n",
        "\n",
        "#Origem: https://creativecommons.org/licenses/by/4.0/.\n",
        "cities_data = pd.read_csv(path+'data/simplemaps_worldcities_basicv1.5/worldcities.csv', \n",
        "                  skiprows=1, \n",
        "                  sep=',', \n",
        "                  encoding='utf-8', \n",
        "                  na_values='-', \n",
        "                  engine='python',\n",
        "                  names=['City_','City','latitude','longitude','Country','Country_id_','Country_id',\n",
        "                         'highest_level','capital','population','id'])\n",
        "\n",
        "#Origem: https://www.kaggle.com/eidanch/counties-geographic-coordinates\n",
        "coutries_data = pd.read_csv(path+'data/countries.csv', \n",
        "                  skiprows=0, \n",
        "                  sep=',', \n",
        "                  encoding='utf-8',\n",
        "                  names=['Country_id','latitude','longtude','Country'])\n",
        "\n",
        "#Origem: https://www.kaggle.com/berkeleyearth/climate-change-earth-surface-temperature-data#GlobalLandTemperaturesByCountry.csv\n",
        "global_land_temp_by_country = pd.read_csv(path+'data/GlobalLandTemperaturesByCountry.csv', \n",
        "                  skiprows=1,\n",
        "                  sep=',', \n",
        "                  encoding='utf-8',\n",
        "                  index_col=False,\n",
        "                  names=['Date','avg_temp','AverageTemperatureUncertainty','Country'])"
      ],
      "execution_count": null,
      "outputs": []
    },
    {
      "cell_type": "markdown",
      "metadata": {
        "id": "AWs7GSIuLrEb"
      },
      "source": [
        "Removemos as colunas que não iremos utilizar"
      ]
    },
    {
      "cell_type": "code",
      "metadata": {
        "id": "moiZHHotJN97"
      },
      "source": [
        "global_land_temp_by_country = global_land_temp_by_country.drop(['AverageTemperatureUncertainty'], axis = 1)"
      ],
      "execution_count": null,
      "outputs": []
    },
    {
      "cell_type": "markdown",
      "metadata": {
        "id": "QMa_Gqd7MZ9V"
      },
      "source": [
        "No dataset \"**global_land_temp_by_country**\" a data está completa (YYYY-MM-DD), porém precisamos apenas do dado do ano para cruzar com nosso dataset, desta forma extraímos o ano e criamos uma nova coluna chamada \"**Year**\""
      ]
    },
    {
      "cell_type": "code",
      "metadata": {
        "id": "RgE-NedIJP1m"
      },
      "source": [
        "global_land_temp_by_country['Year'] = pd.DatetimeIndex(global_land_temp_by_country['Date']).year\n",
        "global_land_temp_by_country = global_land_temp_by_country.drop('Date', axis = 1)"
      ],
      "execution_count": null,
      "outputs": []
    },
    {
      "cell_type": "markdown",
      "metadata": {
        "id": "bb6pVkAhP3vz"
      },
      "source": [
        "Algumas colunas foram criadas para auxílio do merge entre os datasets e não serão utilizadas futuramente, desta forma apagamos as informações que neste momento não são importantes para o nosso modelo."
      ]
    },
    {
      "cell_type": "code",
      "metadata": {
        "id": "N_oURO9OInrR"
      },
      "source": [
        "drop_elements = ['highest_level','id','City_','Country_id_','capital']\n",
        "cities_data = cities_data.drop(drop_elements, axis = 1)"
      ],
      "execution_count": null,
      "outputs": []
    },
    {
      "cell_type": "markdown",
      "metadata": {
        "id": "V2wfbiqzQvVR"
      },
      "source": [
        "Aplicamos a tratativa dos nomes dos países nos datasets **cities_data** para possibilitar realizar o merge dos datasets de forma equivalente."
      ]
    },
    {
      "cell_type": "code",
      "metadata": {
        "id": "4RqjWvQCJTKk"
      },
      "source": [
        "cities_data.Country = cities_data.Country.apply(trata_texto)\n",
        "cities_data.City = cities_data.City.apply(trata_texto)"
      ],
      "execution_count": null,
      "outputs": []
    },
    {
      "cell_type": "markdown",
      "metadata": {
        "id": "CRJSLs_QQyXc"
      },
      "source": [
        "Filtramos e agrupamos os dados do dataset **global_land_temp_by_country** da seguinte forma:\n",
        "\n",
        "\n",
        "*   Apenas temperaturas após o ano de 1990 serão consideradas, pois o dataset do IHME (ao qual faremos o merge) contém dados após esta data;\n",
        "*   Agrupamos por ano/País os dados de temperatura para possibilitar o merge entre os datasets. (Este conjunto de dados será utilizado futuramente para completar os dados de temperatura que faltam do dataset obtido pela base do **BigQuery**)\n",
        "\n"
      ]
    },
    {
      "cell_type": "code",
      "metadata": {
        "id": "rfADlyVRJV8i"
      },
      "source": [
        "#Filtra apenas os dados necessários\n",
        "global_land_temp_by_country = global_land_temp_by_country[global_land_temp_by_country['Year'] >= 1990]\n",
        "global_land_temp_by_country = global_land_temp_by_country.groupby(['Country', 'Year'],as_index=False).mean().round(2)"
      ],
      "execution_count": null,
      "outputs": []
    },
    {
      "cell_type": "markdown",
      "metadata": {
        "id": "3s_uZUgDQ0KW"
      },
      "source": [
        "O conjunto de dados principal que utilizaremos para obter os dados de temperatura são de origem do [BigQuery](https://bigquery.cloud.google.com/table/fh-bigquery:weather_gsod.all?pli=1): "
      ]
    },
    {
      "cell_type": "code",
      "metadata": {
        "id": "uPSMsNgtJd2u"
      },
      "source": [
        "#Origem: https://bigquery.cloud.google.com/table/fh-bigquery:weather_gsod.all?pli=1\n",
        "global_temp_by_country_data = pd.io.gbq.read_gbq('''\n",
        "  SELECT year as year_\n",
        "\t\t,country as Country_id          \n",
        "        ,ROUND(((AVG(temp) - 32)*5/9),0) as avg_temp\n",
        "  FROM `fh-bigquery.weather_gsod.all`\n",
        "  GROUP BY year,country\n",
        "  ''', project_id=project_id, dialect='standard')\n",
        "\n",
        "global_temp_by_city_data = pd.io.gbq.read_gbq('''\n",
        "  SELECT year as year_\n",
        "        ,ROUND(((AVG(temp) - 32)*5/9),0) as avg_temp\n",
        "        ,country as Country_Code\n",
        "        ,name as City\n",
        "  FROM `fh-bigquery.weather_gsod.all`\n",
        "  GROUP BY year,country,name\n",
        "  ''', project_id=project_id, dialect='standard')"
      ],
      "execution_count": null,
      "outputs": []
    },
    {
      "cell_type": "markdown",
      "metadata": {
        "id": "nwfEQO4yQ1jB"
      },
      "source": [
        "O conjunto de dados do IMGE contém informações importantes para tratarmos a hierarquia de países, desta forma realizamos o merge com o dataset ihme_data para agrupar essas informações."
      ]
    },
    {
      "cell_type": "code",
      "metadata": {
        "id": "fUDFodxrKWci"
      },
      "source": [
        "ihme_data = pd.merge(ihme_data,location_details,left_on='Country', right_on='location_name')"
      ],
      "execution_count": null,
      "outputs": []
    },
    {
      "cell_type": "markdown",
      "metadata": {
        "id": "UwloJ3ytQ2Y3"
      },
      "source": [
        "Criamos o campo \"cat_level\" qe recebe uma melhor descrição sobre a categoria da localização e apagamos as colunas não mais necessárias:"
      ]
    },
    {
      "cell_type": "code",
      "metadata": {
        "id": "-ze0He6QAZtg",
        "outputId": "3cf5fdb9-0878-4bf4-ebd7-46ea119337b3",
        "colab": {
          "base_uri": "https://localhost:8080/",
          "height": 178
        }
      },
      "source": [
        "#Campo mais descritivo como categoria\n",
        "ihme_data['cat_level'] = ihme_data.level.apply(lambda x: [\"Global\",\"Hemisphere\", \"Geo Region\",\"Country\"\n",
        "                                                          ,\"City\",\"Downton\"][x]).astype(\"category\")\n",
        "\n",
        "drop_elements = ['Metric','Rate','location_set_version_id','location_name','sort_order']\n",
        "ihme_data = ihme_data.drop(drop_elements, axis = 1)\n",
        "\n",
        "ihme_data.head()"
      ],
      "execution_count": null,
      "outputs": [
        {
          "output_type": "execute_result",
          "data": {
            "application/vnd.google.colaboratory.module+javascript": "\n      import \"https://ssl.gstatic.com/colaboratory/data_table/9e554b27bdd509f3/data_table.js\";\n\n      window.createDataTable({\n        data: [[{\n            'v': 0,\n            'f': \"0\",\n        },\n\"North Korea\",\n\"Male\",\n\"10 to 14\",\n\"Self-harm by other specified means\",\n{\n            'v': 1990,\n            'f': \"1990\",\n        },\n{\n            'v': 1.7744254653492533,\n            'f': \"1.7744254653492533\",\n        },\n{\n            'v': 2.9473977676385217,\n            'f': \"2.9473977676385217\",\n        },\n{\n            'v': 0.9584342108809748,\n            'f': \"0.9584342108809748\",\n        },\n{\n            'v': 7,\n            'f': \"7\",\n        },\n{\n            'v': 5,\n            'f': \"5\",\n        },\n{\n            'v': 3,\n            'f': \"3\",\n        },\n\"Country\"],\n [{\n            'v': 1,\n            'f': \"1\",\n        },\n\"North Korea\",\n\"Female\",\n\"10 to 14\",\n\"Self-harm by other specified means\",\n{\n            'v': 1990,\n            'f': \"1990\",\n        },\n{\n            'v': 1.8233426009767857,\n            'f': \"1.8233426009767857\",\n        },\n{\n            'v': 2.833171811511399,\n            'f': \"2.833171811511399\",\n        },\n{\n            'v': 1.1168369621468217,\n            'f': \"1.1168369621468217\",\n        },\n{\n            'v': 7,\n            'f': \"7\",\n        },\n{\n            'v': 5,\n            'f': \"5\",\n        },\n{\n            'v': 3,\n            'f': \"3\",\n        },\n\"Country\"],\n [{\n            'v': 2,\n            'f': \"2\",\n        },\n\"North Korea\",\n\"Both\",\n\"10 to 14\",\n\"Self-harm by other specified means\",\n{\n            'v': 1990,\n            'f': \"1990\",\n        },\n{\n            'v': 1.7994153225840068,\n            'f': \"1.7994153225840068\",\n        },\n{\n            'v': 2.492644005906372,\n            'f': \"2.492644005906372\",\n        },\n{\n            'v': 1.2602846480653758,\n            'f': \"1.2602846480653758\",\n        },\n{\n            'v': 7,\n            'f': \"7\",\n        },\n{\n            'v': 5,\n            'f': \"5\",\n        },\n{\n            'v': 3,\n            'f': \"3\",\n        },\n\"Country\"],\n [{\n            'v': 3,\n            'f': \"3\",\n        },\n\"North Korea\",\n\"Male\",\n\"15 to 19\",\n\"Self-harm by other specified means\",\n{\n            'v': 1990,\n            'f': \"1990\",\n        },\n{\n            'v': 10.311974708469327,\n            'f': \"10.311974708469327\",\n        },\n{\n            'v': 15.737131875346401,\n            'f': \"15.737131875346401\",\n        },\n{\n            'v': 6.1600629599101735,\n            'f': \"6.1600629599101735\",\n        },\n{\n            'v': 7,\n            'f': \"7\",\n        },\n{\n            'v': 5,\n            'f': \"5\",\n        },\n{\n            'v': 3,\n            'f': \"3\",\n        },\n\"Country\"],\n [{\n            'v': 4,\n            'f': \"4\",\n        },\n\"North Korea\",\n\"Female\",\n\"15 to 19\",\n\"Self-harm by other specified means\",\n{\n            'v': 1990,\n            'f': \"1990\",\n        },\n{\n            'v': 8.511354307563295,\n            'f': \"8.511354307563295\",\n        },\n{\n            'v': 12.09915521263442,\n            'f': \"12.09915521263442\",\n        },\n{\n            'v': 5.659758931491545,\n            'f': \"5.659758931491545\",\n        },\n{\n            'v': 7,\n            'f': \"7\",\n        },\n{\n            'v': 5,\n            'f': \"5\",\n        },\n{\n            'v': 3,\n            'f': \"3\",\n        },\n\"Country\"]],\n        columns: [[\"number\", \"index\"], [\"string\", \"Country\"], [\"string\", \"Sex\"], [\"string\", \"Age\"], [\"string\", \"Cause_of_Death\"], [\"number\", \"Year\"], [\"number\", \"Total\"], [\"number\", \"Upper\"], [\"number\", \"Lower\"], [\"number\", \"location_id\"], [\"number\", \"parent_id\"], [\"number\", \"level\"], [\"string\", \"cat_level\"]],\n        columnOptions: [{\"width\": \"1px\", \"className\": \"index_column\"}],\n        rowsPerPage: 25,\n        helpUrl: \"https://colab.research.google.com/notebooks/data_table.ipynb\",\n      });\n    ",
            "text/html": [
              "<div>\n",
              "<style scoped>\n",
              "    .dataframe tbody tr th:only-of-type {\n",
              "        vertical-align: middle;\n",
              "    }\n",
              "\n",
              "    .dataframe tbody tr th {\n",
              "        vertical-align: top;\n",
              "    }\n",
              "\n",
              "    .dataframe thead th {\n",
              "        text-align: right;\n",
              "    }\n",
              "</style>\n",
              "<table border=\"1\" class=\"dataframe\">\n",
              "  <thead>\n",
              "    <tr style=\"text-align: right;\">\n",
              "      <th></th>\n",
              "      <th>Country</th>\n",
              "      <th>Sex</th>\n",
              "      <th>Age</th>\n",
              "      <th>Cause_of_Death</th>\n",
              "      <th>Year</th>\n",
              "      <th>Total</th>\n",
              "      <th>Upper</th>\n",
              "      <th>Lower</th>\n",
              "      <th>location_id</th>\n",
              "      <th>parent_id</th>\n",
              "      <th>level</th>\n",
              "      <th>cat_level</th>\n",
              "    </tr>\n",
              "  </thead>\n",
              "  <tbody>\n",
              "    <tr>\n",
              "      <th>0</th>\n",
              "      <td>North Korea</td>\n",
              "      <td>Male</td>\n",
              "      <td>10 to 14</td>\n",
              "      <td>Self-harm by other specified means</td>\n",
              "      <td>1990</td>\n",
              "      <td>1.774425</td>\n",
              "      <td>2.947398</td>\n",
              "      <td>0.958434</td>\n",
              "      <td>7</td>\n",
              "      <td>5</td>\n",
              "      <td>3</td>\n",
              "      <td>Country</td>\n",
              "    </tr>\n",
              "    <tr>\n",
              "      <th>1</th>\n",
              "      <td>North Korea</td>\n",
              "      <td>Female</td>\n",
              "      <td>10 to 14</td>\n",
              "      <td>Self-harm by other specified means</td>\n",
              "      <td>1990</td>\n",
              "      <td>1.823343</td>\n",
              "      <td>2.833172</td>\n",
              "      <td>1.116837</td>\n",
              "      <td>7</td>\n",
              "      <td>5</td>\n",
              "      <td>3</td>\n",
              "      <td>Country</td>\n",
              "    </tr>\n",
              "    <tr>\n",
              "      <th>2</th>\n",
              "      <td>North Korea</td>\n",
              "      <td>Both</td>\n",
              "      <td>10 to 14</td>\n",
              "      <td>Self-harm by other specified means</td>\n",
              "      <td>1990</td>\n",
              "      <td>1.799415</td>\n",
              "      <td>2.492644</td>\n",
              "      <td>1.260285</td>\n",
              "      <td>7</td>\n",
              "      <td>5</td>\n",
              "      <td>3</td>\n",
              "      <td>Country</td>\n",
              "    </tr>\n",
              "    <tr>\n",
              "      <th>3</th>\n",
              "      <td>North Korea</td>\n",
              "      <td>Male</td>\n",
              "      <td>15 to 19</td>\n",
              "      <td>Self-harm by other specified means</td>\n",
              "      <td>1990</td>\n",
              "      <td>10.311975</td>\n",
              "      <td>15.737132</td>\n",
              "      <td>6.160063</td>\n",
              "      <td>7</td>\n",
              "      <td>5</td>\n",
              "      <td>3</td>\n",
              "      <td>Country</td>\n",
              "    </tr>\n",
              "    <tr>\n",
              "      <th>4</th>\n",
              "      <td>North Korea</td>\n",
              "      <td>Female</td>\n",
              "      <td>15 to 19</td>\n",
              "      <td>Self-harm by other specified means</td>\n",
              "      <td>1990</td>\n",
              "      <td>8.511354</td>\n",
              "      <td>12.099155</td>\n",
              "      <td>5.659759</td>\n",
              "      <td>7</td>\n",
              "      <td>5</td>\n",
              "      <td>3</td>\n",
              "      <td>Country</td>\n",
              "    </tr>\n",
              "  </tbody>\n",
              "</table>\n",
              "</div>"
            ],
            "text/plain": [
              "       Country     Sex       Age  ... parent_id  level  cat_level\n",
              "0  North Korea    Male  10 to 14  ...         5      3    Country\n",
              "1  North Korea  Female  10 to 14  ...         5      3    Country\n",
              "2  North Korea    Both  10 to 14  ...         5      3    Country\n",
              "3  North Korea    Male  15 to 19  ...         5      3    Country\n",
              "4  North Korea  Female  15 to 19  ...         5      3    Country\n",
              "\n",
              "[5 rows x 12 columns]"
            ]
          },
          "metadata": {
            "tags": []
          },
          "execution_count": 14
        }
      ]
    },
    {
      "cell_type": "markdown",
      "metadata": {
        "id": "YNbm0DBMQ4gk"
      },
      "source": [
        "Criamos um **Dataframe** \"metricas_globais\" filtrando os dados de métricas de suicídio globais, para uso futuro."
      ]
    },
    {
      "cell_type": "code",
      "metadata": {
        "id": "cgcVxKScZzLT",
        "outputId": "39f8aa57-88eb-491b-df3f-df821ef3baf5",
        "colab": {
          "base_uri": "https://localhost:8080/",
          "height": 34
        }
      },
      "source": [
        "#Métricas globais\n",
        "metricas_globais = ihme_data[\n",
        "          (ihme_data['Country'] == 'Global') \n",
        "          &(ihme_data['Sex'] == 'Both')\n",
        "          & (ihme_data['Age'] == 'All Ages')\n",
        "          & (ihme_data['Cause_of_Death'] == 'Self-harm')\n",
        "          ].sort_values(by=\"Total\", ascending=False)\n",
        "\n",
        "mean_global_suicide = metricas_globais['Total'].mean()\n",
        "print('Media global de rate de suicidio: ',mean_global_suicide)"
      ],
      "execution_count": null,
      "outputs": [
        {
          "output_type": "stream",
          "text": [
            "Media global de rate de suicidio:  12.551622825178459\n"
          ],
          "name": "stdout"
        }
      ]
    },
    {
      "cell_type": "markdown",
      "metadata": {
        "id": "todCMI9vQ5r4"
      },
      "source": [
        "Neste dataset iremos transpor as colunas de \"Country\" e \"Geo Region\" para os registros de cidades e países, esta transposição foi feita pelo \"parent_id\" como chave para a identificação do país/região."
      ]
    },
    {
      "cell_type": "code",
      "metadata": {
        "id": "I_vqtR2_HH34"
      },
      "source": [
        "####### AJUSTES GERAIS ##########\n",
        "\n",
        "#Separa os registros de cidades (c) e regiões (r) \n",
        "c = ihme_data[ihme_data['level'] == 3]\n",
        "r = ihme_data[ihme_data['level'] == 2]\n",
        "\n",
        "#Dicionarios contendo a lista de paises e região\n",
        "c_dict = dict(zip(c['location_id'], c['Country'].values.tolist()))\n",
        "r_dict = dict(zip(r['location_id'], r['Country'].values.tolist()))\n",
        "\n",
        "#Transposição das cidades\n",
        "ihme_data['Country_'] = ihme_data['parent_id'].map(c_dict) \n",
        "ihme_data['Geo_Region'] = ihme_data['parent_id'].map(r_dict) \n",
        "\n",
        "#Transposição da região\n",
        "r_dict = dict(zip(ihme_data['Country'], ihme_data['Geo_Region'].values.tolist()))\n",
        "ihme_data['Geo_Region'] = ihme_data['Country_'].map(r_dict) "
      ],
      "execution_count": null,
      "outputs": []
    },
    {
      "cell_type": "markdown",
      "metadata": {
        "id": "YS2tK07kQ9Aq"
      },
      "source": [
        "Criamos um dataset para cada uma das análises: \n",
        "\n",
        "\n",
        "\n",
        "*   Cidade;\n",
        "*   País.\n",
        "\n"
      ]
    },
    {
      "cell_type": "code",
      "metadata": {
        "id": "W3Kivt3pLFw1"
      },
      "source": [
        "ihme_data_city = ihme_data[ihme_data['level'] == 4]\n",
        "ihme_data_country = ihme_data[ihme_data['level'] == 3]"
      ],
      "execution_count": null,
      "outputs": []
    },
    {
      "cell_type": "markdown",
      "metadata": {
        "id": "6yZaJXXFQ-U3"
      },
      "source": [
        "Neste momento apagamos algumas colunas que utilizamos temporariamente para o processamento das informações e merge da mesma, pois não iremos utilizar no decorrer das próximas etapas"
      ]
    },
    {
      "cell_type": "code",
      "metadata": {
        "id": "0pxRsm-ULQwj"
      },
      "source": [
        "#Apaga colunas que nao serao utilizadas\n",
        "drop_elements = ['location_id','parent_id','level','cat_level']\n",
        "ihme_data_city = ihme_data_city.drop(drop_elements, axis = 1)\n",
        "\n",
        "drop_elements = ['location_id','parent_id','Country_','Geo_Region','level','cat_level']\n",
        "ihme_data_country = ihme_data_country.drop(drop_elements, axis = 1)"
      ],
      "execution_count": null,
      "outputs": []
    },
    {
      "cell_type": "markdown",
      "metadata": {
        "id": "6e4jnTa0Q_lm"
      },
      "source": [
        "O código abeixo irá renomear as colunas e trata o nome dos países no dataset **ihme_data_city**"
      ]
    },
    {
      "cell_type": "code",
      "metadata": {
        "id": "CWMrCaXNHIDB"
      },
      "source": [
        "#Ajusta o nome das colunas\n",
        "ihme_data_city.rename(columns={\"Country\": \"City\", \"Country_\": \"Country\"}, inplace = True)\n",
        "ihme_data_city.City = ihme_data_city.City.apply(trata_texto)"
      ],
      "execution_count": null,
      "outputs": []
    },
    {
      "cell_type": "markdown",
      "metadata": {
        "id": "vErn3kTfRAF6"
      },
      "source": [
        "Utilizamos a função \"**trata_texto**\" e \"**trata_nome_paises**\" no nome dos países que serão trabalhados adiante."
      ]
    },
    {
      "cell_type": "code",
      "metadata": {
        "id": "N1deqqa_HIJo"
      },
      "source": [
        "#Ajusta nome dos paises\n",
        "ihme_data_country.Country = ihme_data_country.Country.apply(trata_texto)\n",
        "ihme_data_city.Country = ihme_data_city.Country.apply(trata_texto)\n",
        "ihme_data_city.City = ihme_data_city.City.apply(trata_texto)\n",
        "who_data_quality.Country = who_data_quality.Country.apply(trata_texto)\n",
        "coutries_data.Country = coutries_data.Country.apply(trata_texto)\n",
        "global_land_temp_by_country.Country = global_land_temp_by_country.Country.apply(trata_texto)\n",
        "\n",
        "#Trata nome dos paises\n",
        "coutries_data = trata_nome_paises(coutries_data,'Country')\n",
        "ihme_data_country = trata_nome_paises(ihme_data_country,'Country')\n",
        "who_data_quality = trata_nome_paises(who_data_quality,'Country')\n",
        "global_land_temp_by_country = trata_nome_paises(global_land_temp_by_country,'Country')"
      ],
      "execution_count": null,
      "outputs": []
    },
    {
      "cell_type": "markdown",
      "metadata": {
        "id": "0Ue8DcnxRB5V"
      },
      "source": [
        "Realiza o merge entre os datasets:\n",
        "\n",
        "\n",
        "\n",
        "*   Dados complementáres de países\n",
        "*   Dados complementáres de cidades\n",
        "\n"
      ]
    },
    {
      "cell_type": "code",
      "metadata": {
        "id": "yBZuwyoMHIHc"
      },
      "source": [
        "####### COUNTRY LAT. LONG ##########\n",
        "\n",
        "#Merge dos datasets\n",
        "ihme_data_country = pd.merge(ihme_data_country,coutries_data,left_on='Country', right_on='Country', how='left')\n",
        "ihme_data_worldcities_basic = pd.merge(ihme_data,cities_data,left_on='Country', right_on='City', how='left')"
      ],
      "execution_count": null,
      "outputs": []
    },
    {
      "cell_type": "markdown",
      "metadata": {
        "id": "wOg2RJzJRC5S"
      },
      "source": [
        "Os países **NAMÍBIA, SUL DO SUDÃO E SÃO TOMÉ E PRINCÍPIO** necessitaram de ajustes pontuais no dataset, pois não continham a informação em *`coutries_data`*."
      ]
    },
    {
      "cell_type": "code",
      "metadata": {
        "id": "F6SQ7GBeHVsT"
      },
      "source": [
        "#Atualiza país sem cadastro\n",
        "ihme_data_country.loc[ihme_data_country.Country == 'NAMIBIA','Country_id'] = 'NAM'\n",
        "\n",
        "#Atualize países sem informação de lat. e long.\n",
        "ihme_data_country.loc[ihme_data_country.Country == 'SOUTH SUDAN','Country_id'] = 'SS'\n",
        "ihme_data_country.loc[ihme_data_country.Country == 'SOUTH SUDAN','latitude'] = 19.6174500\n",
        "ihme_data_country.loc[ihme_data_country.Country == 'SOUTH SUDAN','longtude'] = 37.2164400\n",
        "\n",
        "ihme_data_country.loc[ihme_data_country.Country == 'SAO TOME AND PRINCIPE','Country_id'] = 'ST'\n",
        "ihme_data_country.loc[ihme_data_country.Country == 'SAO TOME AND PRINCIPE','latitude'] = 0.3365400\n",
        "ihme_data_country.loc[ihme_data_country.Country == 'SAO TOME AND PRINCIPE','longtude'] = 6.7273200"
      ],
      "execution_count": null,
      "outputs": []
    },
    {
      "cell_type": "markdown",
      "metadata": {
        "id": "o8BaEMKEREU3"
      },
      "source": [
        "Os dados **duplicados** foram removidos do dataset:\n",
        "\n",
        "\n",
        "\n",
        "1.   Informação de Sexo (Ambos);\n",
        "2.   Informação de Idade (Todas);\n",
        "3.   Causa de Morte (Suicídio - sem informação de método);\n",
        "4.   Dados de Geolocalização (Level igual a 5)\n",
        "\n"
      ]
    },
    {
      "cell_type": "code",
      "metadata": {
        "id": "5fpjghf1LaY9"
      },
      "source": [
        "#Remove dados duplicados no dataset\n",
        "ihme_data = ihme_data[ihme_data[\"Sex\"] != 'Both']\n",
        "ihme_data = ihme_data[ihme_data['Age'] != 'All Ages']\n",
        "ihme_data = ihme_data[ihme_data[\"Cause_of_Death\"] != 'Self-harm']\n",
        "ihme_data = ihme_data[ihme_data[\"level\"] != 5]"
      ],
      "execution_count": null,
      "outputs": []
    },
    {
      "cell_type": "markdown",
      "metadata": {
        "id": "1UgOO0r8RE5L"
      },
      "source": [
        "Realizamos também o merge do dataset para obter as informações de temperatura média (`global_temp_by_country_data`), desta forma agrupamos o dataframe por **ano** e depois realizamos o merge entre os datasets (`ihme_data_city` e `ihme_data_country`)"
      ]
    },
    {
      "cell_type": "code",
      "metadata": {
        "id": "dJ57HjqSHY_k"
      },
      "source": [
        "global_temp_by_country_data['year_'] = pd.to_numeric(global_temp_by_country_data['year_'])\n",
        "global_temp_by_city_data['year_'] = pd.to_numeric(global_temp_by_city_data['year_'])\n",
        "\n",
        "ihme_data_city = pd.merge(ihme_data_city,global_temp_by_city_data,left_on=['City','Year'], right_on=['City','year_'], how='left')\n",
        "\n",
        "#Neste merge utilizamos os dados obtidos pelo BigQuery e também pelo dataset global_land_temp_by_country\n",
        "ihme_data_country = pd.merge(ihme_data_country,global_temp_by_country_data,left_on=['Country_id','Year'], right_on=['Country_id','year_'], how='left')\n",
        "ihme_data_country = pd.merge(ihme_data_country,global_land_temp_by_country,left_on=['Country','Year','avg_temp'], right_on=['Country','Year','avg_temp'], how='left')"
      ],
      "execution_count": null,
      "outputs": []
    },
    {
      "cell_type": "markdown",
      "metadata": {
        "id": "h0px482iRIlB"
      },
      "source": [
        "Os países com dados NAN (faltantes) são carregados com o valor médio de temperatura do país (`global_land_temp_by_country`) esta tratativa foi necessária, pois 276.480 registros não continham dados de temperatura."
      ]
    },
    {
      "cell_type": "code",
      "metadata": {
        "id": "Cf-H3zYjpCbJ",
        "outputId": "8d1c5707-4557-40f5-f267-ecfdbe422100",
        "colab": {
          "base_uri": "https://localhost:8080/",
          "height": 336
        }
      },
      "source": [
        "ihme_data_country.info()"
      ],
      "execution_count": null,
      "outputs": [
        {
          "output_type": "stream",
          "text": [
            "<class 'pandas.core.frame.DataFrame'>\n",
            "Int64Index: 790272 entries, 0 to 790271\n",
            "Data columns (total 13 columns):\n",
            "Country           790272 non-null object\n",
            "Sex               790272 non-null object\n",
            "Age               790272 non-null object\n",
            "Cause_of_Death    790272 non-null object\n",
            "Year              790272 non-null int64\n",
            "Total             790272 non-null float64\n",
            "Upper             790272 non-null float64\n",
            "Lower             790272 non-null float64\n",
            "Country_id        790272 non-null object\n",
            "latitude          790272 non-null object\n",
            "longtude          790272 non-null object\n",
            "year_             513792 non-null float64\n",
            "avg_temp          513792 non-null float64\n",
            "dtypes: float64(5), int64(1), object(7)\n",
            "memory usage: 84.4+ MB\n"
          ],
          "name": "stdout"
        }
      ]
    },
    {
      "cell_type": "code",
      "metadata": {
        "id": "dbHfBrConRD5"
      },
      "source": [
        "####### TRATA DADOS NAN #######\n",
        "\n",
        "gc = global_land_temp_by_country.groupby(['Country'],as_index=False).mean().round(2)\n",
        "gc = gc.drop(['Year'], axis=1)\n",
        "\n",
        "df = ihme_data_country\n",
        "\n",
        "#Países existente - Itera sobre os itens NAN e substitui pelo valor médio do mesmo\n",
        "for index, row in gc.iterrows():\n",
        "  df.loc[df.Country== row['Country'],'avg_temp'] = df.loc[df.Country== row['Country'],'avg_temp'].fillna(gc[gc['Country'] == row['Country']]['avg_temp'].mean())\n",
        "\n",
        "df = df.fillna(gc.avg_temp.mean())\n",
        "  \n",
        "ihme_data_country = df"
      ],
      "execution_count": null,
      "outputs": []
    },
    {
      "cell_type": "code",
      "metadata": {
        "id": "utsQeokvl4iV"
      },
      "source": [
        "#Apaga colunas que nao serao utilizadas\n",
        "drop_elements = ['year_']\n",
        "ihme_data_city = ihme_data_city.drop(drop_elements, axis = 1)\n",
        "ihme_data_country = ihme_data_country.drop(drop_elements, axis = 1)"
      ],
      "execution_count": null,
      "outputs": []
    },
    {
      "cell_type": "code",
      "metadata": {
        "id": "KC4xmNy8pYGB",
        "outputId": "807f33ed-ec47-4cf2-ac86-fe9baf76e74d",
        "colab": {
          "base_uri": "https://localhost:8080/",
          "height": 318
        }
      },
      "source": [
        "ihme_data_country.info()"
      ],
      "execution_count": null,
      "outputs": [
        {
          "output_type": "stream",
          "text": [
            "<class 'pandas.core.frame.DataFrame'>\n",
            "Int64Index: 790272 entries, 0 to 790271\n",
            "Data columns (total 12 columns):\n",
            "Country           790272 non-null object\n",
            "Sex               790272 non-null object\n",
            "Age               790272 non-null object\n",
            "Cause_of_Death    790272 non-null object\n",
            "Year              790272 non-null int64\n",
            "Total             790272 non-null float64\n",
            "Upper             790272 non-null float64\n",
            "Lower             790272 non-null float64\n",
            "Country_id        790272 non-null object\n",
            "latitude          790272 non-null object\n",
            "longtude          790272 non-null object\n",
            "avg_temp          790272 non-null float64\n",
            "dtypes: float64(4), int64(1), object(7)\n",
            "memory usage: 78.4+ MB\n"
          ],
          "name": "stdout"
        }
      ]
    },
    {
      "cell_type": "markdown",
      "metadata": {
        "id": "swKMie_3RJpT"
      },
      "source": [
        "Criamos um array com o nome dos países considerados confiáveis para utilização em filtros futuros "
      ]
    },
    {
      "cell_type": "code",
      "metadata": {
        "id": "SikyRaOn0HJR",
        "outputId": "208dab73-cf23-4ce1-f44b-e35eefe58ef3",
        "colab": {
          "base_uri": "https://localhost:8080/",
          "height": 247
        }
      },
      "source": [
        "#Paises com dados considerados completos superior a 70% \n",
        "#e com taxa de dados incompletos ou incorretos menor que 25%\n",
        "countries_data_quality = who_data_quality[(who_data_quality['Completeness'] > 0.70) \n",
        "                                                 & (who_data_quality['Garbage_frac_end'] <= 0.25)\n",
        "                                            ].Country.unique()\n",
        "\n",
        "print(\"Total de Paises com dados confiaveis:\", countries_data_quality)"
      ],
      "execution_count": null,
      "outputs": [
        {
          "output_type": "stream",
          "text": [
            "Total de Paises com dados confiaveis: ['ANTIGUA AND BARBUDA' 'ARGENTINA' 'ARMENIA' 'AUSTRALIA' 'AUSTRIA'\n",
            " 'THE BAHAMAS' 'BARBADOS' 'BELARUS' 'BELGIUM' 'BELIZE'\n",
            " 'BOSNIA AND HERZEGOVINA' 'BRAZIL' 'BRUNEI' 'CAPE VERDE' 'CHILE'\n",
            " 'COSTA RICA' 'CROATIA' 'CUBA' 'CZECH REPUBLIC' 'DENMARK' 'ECUADOR'\n",
            " 'ESTONIA' 'FINLAND' 'FRANCE' 'GERMANY' 'GRENADA' 'GUATEMALA' 'GUYANA'\n",
            " 'HUNGARY' 'ICELAND' 'IRELAND' 'ISRAEL' 'ITALY' 'JAMAICA' 'JAPAN'\n",
            " 'KAZAKHSTAN' 'KYRGYZSTAN' 'LATVIA' 'LITHUANIA' 'LUXEMBOURG' 'MALTA'\n",
            " 'MAURITIUS' 'MEXICO' 'NETHERLANDS' 'NEW ZEALAND' 'NORWAY' 'PANAMA'\n",
            " 'PHILIPPINES' 'PORTUGAL' 'REPUBLIC OF KOREA' 'MOLDOVA'\n",
            " 'RUSSIAN FEDERATION' 'SAINT VINCENT AND THE GRENADINES' 'SERBIA'\n",
            " 'SLOVAKIA' 'SLOVENIA' 'SPAIN' 'SWEDEN' 'SWITZERLAND' 'TAJIKISTAN'\n",
            " 'MACEDONIA' 'TRINIDAD AND TOBAGO' 'TURKMENISTAN' 'UKRAINE'\n",
            " 'UNITED KINGDOM' 'UNITED STATES' 'URUGUAY' 'UZBEKISTAN' 'VENEZUELA']\n"
          ],
          "name": "stdout"
        }
      ]
    },
    {
      "cell_type": "markdown",
      "metadata": {
        "id": "ZjSeNux7RKwa"
      },
      "source": [
        "### Dataset proposto (Cidades):"
      ]
    },
    {
      "cell_type": "code",
      "metadata": {
        "id": "xVZfWfP_Q1RJ",
        "outputId": "11cee851-c909-4b5c-8758-114d8a8d4868",
        "colab": {
          "base_uri": "https://localhost:8080/",
          "height": 141
        }
      },
      "source": [
        "#Proposta do dataSet\n",
        "ihme_data_city[(ihme_data_city['Sex'] == 'Male') \n",
        "               & (ihme_data_city['Age'] == '10 to 14') \n",
        "               #& (ihme_data_city['City'] == 'BRAZIL') \n",
        "               & (ihme_data_city['Year'] == 2007)\n",
        "               & (ihme_data_city['avg_temp'].notnull())].tail(3)"
      ],
      "execution_count": null,
      "outputs": [
        {
          "output_type": "execute_result",
          "data": {
            "application/vnd.google.colaboratory.module+javascript": "\n      import \"https://ssl.gstatic.com/colaboratory/data_table/9e554b27bdd509f3/data_table.js\";\n\n      window.createDataTable({\n        data: [[{\n            'v': 796752,\n            'f': \"796752\",\n        },\n\"OSAKA\",\n\"Male\",\n\"10 to 14\",\n\"Self-harm\",\n{\n            'v': 2007,\n            'f': \"2007\",\n        },\n{\n            'v': 1.0874730617079815,\n            'f': \"1.0874730617079815\",\n        },\n{\n            'v': 1.397241689658009,\n            'f': \"1.397241689658009\",\n        },\n{\n            'v': 0.8352392415618621,\n            'f': \"0.8352392415618621\",\n        },\n\"JAPAN\",\n\"High-income Asia Pacific\",\n{\n            'v': 18.0,\n            'f': \"18.0\",\n        },\n\"JA\"],\n [{\n            'v': 796800,\n            'f': \"796800\",\n        },\n\"OSAKA\",\n\"Male\",\n\"10 to 14\",\n\"Self-harm by firearm\",\n{\n            'v': 2007,\n            'f': \"2007\",\n        },\n{\n            'v': 0.010181820690978371,\n            'f': \"0.010181820690978371\",\n        },\n{\n            'v': 0.017303236350611567,\n            'f': \"0.017303236350611567\",\n        },\n{\n            'v': 0.0052462847727573975,\n            'f': \"0.0052462847727573975\",\n        },\n\"JAPAN\",\n\"High-income Asia Pacific\",\n{\n            'v': 18.0,\n            'f': \"18.0\",\n        },\n\"JA\"],\n [{\n            'v': 796848,\n            'f': \"796848\",\n        },\n\"OSAKA\",\n\"Male\",\n\"10 to 14\",\n\"Self-harm by other specified means\",\n{\n            'v': 2007,\n            'f': \"2007\",\n        },\n{\n            'v': 1.0772912410170026,\n            'f': \"1.0772912410170026\",\n        },\n{\n            'v': 1.3831582222388168,\n            'f': \"1.3831582222388168\",\n        },\n{\n            'v': 0.8291851303664991,\n            'f': \"0.8291851303664991\",\n        },\n\"JAPAN\",\n\"High-income Asia Pacific\",\n{\n            'v': 18.0,\n            'f': \"18.0\",\n        },\n\"JA\"]],\n        columns: [[\"number\", \"index\"], [\"string\", \"City\"], [\"string\", \"Sex\"], [\"string\", \"Age\"], [\"string\", \"Cause_of_Death\"], [\"number\", \"Year\"], [\"number\", \"Total\"], [\"number\", \"Upper\"], [\"number\", \"Lower\"], [\"string\", \"Country\"], [\"string\", \"Geo_Region\"], [\"number\", \"avg_temp\"], [\"string\", \"Country_Code\"]],\n        columnOptions: [{\"width\": \"1px\", \"className\": \"index_column\"}],\n        rowsPerPage: 25,\n        helpUrl: \"https://colab.research.google.com/notebooks/data_table.ipynb\",\n      });\n    ",
            "text/html": [
              "<div>\n",
              "<style scoped>\n",
              "    .dataframe tbody tr th:only-of-type {\n",
              "        vertical-align: middle;\n",
              "    }\n",
              "\n",
              "    .dataframe tbody tr th {\n",
              "        vertical-align: top;\n",
              "    }\n",
              "\n",
              "    .dataframe thead th {\n",
              "        text-align: right;\n",
              "    }\n",
              "</style>\n",
              "<table border=\"1\" class=\"dataframe\">\n",
              "  <thead>\n",
              "    <tr style=\"text-align: right;\">\n",
              "      <th></th>\n",
              "      <th>City</th>\n",
              "      <th>Sex</th>\n",
              "      <th>Age</th>\n",
              "      <th>Cause_of_Death</th>\n",
              "      <th>Year</th>\n",
              "      <th>Total</th>\n",
              "      <th>Upper</th>\n",
              "      <th>Lower</th>\n",
              "      <th>Country</th>\n",
              "      <th>Geo_Region</th>\n",
              "      <th>avg_temp</th>\n",
              "      <th>Country_Code</th>\n",
              "    </tr>\n",
              "  </thead>\n",
              "  <tbody>\n",
              "    <tr>\n",
              "      <th>796752</th>\n",
              "      <td>OSAKA</td>\n",
              "      <td>Male</td>\n",
              "      <td>10 to 14</td>\n",
              "      <td>Self-harm</td>\n",
              "      <td>2007</td>\n",
              "      <td>1.087473</td>\n",
              "      <td>1.397242</td>\n",
              "      <td>0.835239</td>\n",
              "      <td>JAPAN</td>\n",
              "      <td>High-income Asia Pacific</td>\n",
              "      <td>18.0</td>\n",
              "      <td>JA</td>\n",
              "    </tr>\n",
              "    <tr>\n",
              "      <th>796800</th>\n",
              "      <td>OSAKA</td>\n",
              "      <td>Male</td>\n",
              "      <td>10 to 14</td>\n",
              "      <td>Self-harm by firearm</td>\n",
              "      <td>2007</td>\n",
              "      <td>0.010182</td>\n",
              "      <td>0.017303</td>\n",
              "      <td>0.005246</td>\n",
              "      <td>JAPAN</td>\n",
              "      <td>High-income Asia Pacific</td>\n",
              "      <td>18.0</td>\n",
              "      <td>JA</td>\n",
              "    </tr>\n",
              "    <tr>\n",
              "      <th>796848</th>\n",
              "      <td>OSAKA</td>\n",
              "      <td>Male</td>\n",
              "      <td>10 to 14</td>\n",
              "      <td>Self-harm by other specified means</td>\n",
              "      <td>2007</td>\n",
              "      <td>1.077291</td>\n",
              "      <td>1.383158</td>\n",
              "      <td>0.829185</td>\n",
              "      <td>JAPAN</td>\n",
              "      <td>High-income Asia Pacific</td>\n",
              "      <td>18.0</td>\n",
              "      <td>JA</td>\n",
              "    </tr>\n",
              "  </tbody>\n",
              "</table>\n",
              "</div>"
            ],
            "text/plain": [
              "         City   Sex       Age  ...                Geo_Region  avg_temp  Country_Code\n",
              "796752  OSAKA  Male  10 to 14  ...  High-income Asia Pacific      18.0            JA\n",
              "796800  OSAKA  Male  10 to 14  ...  High-income Asia Pacific      18.0            JA\n",
              "796848  OSAKA  Male  10 to 14  ...  High-income Asia Pacific      18.0            JA\n",
              "\n",
              "[3 rows x 12 columns]"
            ]
          },
          "metadata": {
            "tags": []
          },
          "execution_count": 30
        }
      ]
    },
    {
      "cell_type": "markdown",
      "metadata": {
        "id": "bwk44aqORMYi"
      },
      "source": [
        "### Dataset proposto (Países)"
      ]
    },
    {
      "cell_type": "code",
      "metadata": {
        "id": "I8Ac_fKiYdID",
        "outputId": "424e324c-bc49-483b-cdf6-5efa2f055f91",
        "colab": {
          "base_uri": "https://localhost:8080/",
          "height": 141
        }
      },
      "source": [
        "#Proposta do dataSet\n",
        "ihme_data_country[(ihme_data_country['Sex'] == 'Male') \n",
        "                  & (ihme_data_country['Age'] == '10 to 14') \n",
        "                  & (ihme_data_country['Country'] == 'BRAZIL') \n",
        "                  & (ihme_data_country['Year'] == 2007)]"
      ],
      "execution_count": null,
      "outputs": [
        {
          "output_type": "execute_result",
          "data": {
            "application/vnd.google.colaboratory.module+javascript": "\n      import \"https://ssl.gstatic.com/colaboratory/data_table/9e554b27bdd509f3/data_table.js\";\n\n      window.createDataTable({\n        data: [[{\n            'v': 171792,\n            'f': \"171792\",\n        },\n\"BRAZIL\",\n\"Male\",\n\"10 to 14\",\n\"Self-harm\",\n{\n            'v': 2007,\n            'f': \"2007\",\n        },\n{\n            'v': 0.7992355724014127,\n            'f': \"0.7992355724014127\",\n        },\n{\n            'v': 0.8737300393401292,\n            'f': \"0.8737300393401292\",\n        },\n{\n            'v': 0.7205279592114744,\n            'f': \"0.7205279592114744\",\n        },\n\"BR\",\n\"-14.235004\",\n\"-51.92528\",\n{\n            'v': 25.0,\n            'f': \"25.0\",\n        }],\n [{\n            'v': 171840,\n            'f': \"171840\",\n        },\n\"BRAZIL\",\n\"Male\",\n\"10 to 14\",\n\"Self-harm by firearm\",\n{\n            'v': 2007,\n            'f': \"2007\",\n        },\n{\n            'v': 0.09451103692346004,\n            'f': \"0.09451103692346004\",\n        },\n{\n            'v': 0.14704596749366405,\n            'f': \"0.14704596749366405\",\n        },\n{\n            'v': 0.06053247559317741,\n            'f': \"0.06053247559317741\",\n        },\n\"BR\",\n\"-14.235004\",\n\"-51.92528\",\n{\n            'v': 25.0,\n            'f': \"25.0\",\n        }],\n [{\n            'v': 171888,\n            'f': \"171888\",\n        },\n\"BRAZIL\",\n\"Male\",\n\"10 to 14\",\n\"Self-harm by other specified means\",\n{\n            'v': 2007,\n            'f': \"2007\",\n        },\n{\n            'v': 0.7047245354779529,\n            'f': \"0.7047245354779529\",\n        },\n{\n            'v': 0.7799959843901995,\n            'f': \"0.7799959843901995\",\n        },\n{\n            'v': 0.6195507524292094,\n            'f': \"0.6195507524292094\",\n        },\n\"BR\",\n\"-14.235004\",\n\"-51.92528\",\n{\n            'v': 25.0,\n            'f': \"25.0\",\n        }]],\n        columns: [[\"number\", \"index\"], [\"string\", \"Country\"], [\"string\", \"Sex\"], [\"string\", \"Age\"], [\"string\", \"Cause_of_Death\"], [\"number\", \"Year\"], [\"number\", \"Total\"], [\"number\", \"Upper\"], [\"number\", \"Lower\"], [\"string\", \"Country_id\"], [\"string\", \"latitude\"], [\"string\", \"longtude\"], [\"number\", \"avg_temp\"]],\n        columnOptions: [{\"width\": \"1px\", \"className\": \"index_column\"}],\n        rowsPerPage: 25,\n        helpUrl: \"https://colab.research.google.com/notebooks/data_table.ipynb\",\n      });\n    ",
            "text/html": [
              "<div>\n",
              "<style scoped>\n",
              "    .dataframe tbody tr th:only-of-type {\n",
              "        vertical-align: middle;\n",
              "    }\n",
              "\n",
              "    .dataframe tbody tr th {\n",
              "        vertical-align: top;\n",
              "    }\n",
              "\n",
              "    .dataframe thead th {\n",
              "        text-align: right;\n",
              "    }\n",
              "</style>\n",
              "<table border=\"1\" class=\"dataframe\">\n",
              "  <thead>\n",
              "    <tr style=\"text-align: right;\">\n",
              "      <th></th>\n",
              "      <th>Country</th>\n",
              "      <th>Sex</th>\n",
              "      <th>Age</th>\n",
              "      <th>Cause_of_Death</th>\n",
              "      <th>Year</th>\n",
              "      <th>Total</th>\n",
              "      <th>Upper</th>\n",
              "      <th>Lower</th>\n",
              "      <th>Country_id</th>\n",
              "      <th>latitude</th>\n",
              "      <th>longtude</th>\n",
              "      <th>avg_temp</th>\n",
              "    </tr>\n",
              "  </thead>\n",
              "  <tbody>\n",
              "    <tr>\n",
              "      <th>171792</th>\n",
              "      <td>BRAZIL</td>\n",
              "      <td>Male</td>\n",
              "      <td>10 to 14</td>\n",
              "      <td>Self-harm</td>\n",
              "      <td>2007</td>\n",
              "      <td>0.799236</td>\n",
              "      <td>0.873730</td>\n",
              "      <td>0.720528</td>\n",
              "      <td>BR</td>\n",
              "      <td>-14.235004</td>\n",
              "      <td>-51.92528</td>\n",
              "      <td>25.0</td>\n",
              "    </tr>\n",
              "    <tr>\n",
              "      <th>171840</th>\n",
              "      <td>BRAZIL</td>\n",
              "      <td>Male</td>\n",
              "      <td>10 to 14</td>\n",
              "      <td>Self-harm by firearm</td>\n",
              "      <td>2007</td>\n",
              "      <td>0.094511</td>\n",
              "      <td>0.147046</td>\n",
              "      <td>0.060532</td>\n",
              "      <td>BR</td>\n",
              "      <td>-14.235004</td>\n",
              "      <td>-51.92528</td>\n",
              "      <td>25.0</td>\n",
              "    </tr>\n",
              "    <tr>\n",
              "      <th>171888</th>\n",
              "      <td>BRAZIL</td>\n",
              "      <td>Male</td>\n",
              "      <td>10 to 14</td>\n",
              "      <td>Self-harm by other specified means</td>\n",
              "      <td>2007</td>\n",
              "      <td>0.704725</td>\n",
              "      <td>0.779996</td>\n",
              "      <td>0.619551</td>\n",
              "      <td>BR</td>\n",
              "      <td>-14.235004</td>\n",
              "      <td>-51.92528</td>\n",
              "      <td>25.0</td>\n",
              "    </tr>\n",
              "  </tbody>\n",
              "</table>\n",
              "</div>"
            ],
            "text/plain": [
              "       Country   Sex       Age  ...    latitude   longtude  avg_temp\n",
              "171792  BRAZIL  Male  10 to 14  ...  -14.235004  -51.92528      25.0\n",
              "171840  BRAZIL  Male  10 to 14  ...  -14.235004  -51.92528      25.0\n",
              "171888  BRAZIL  Male  10 to 14  ...  -14.235004  -51.92528      25.0\n",
              "\n",
              "[3 rows x 12 columns]"
            ]
          },
          "metadata": {
            "tags": []
          },
          "execution_count": 31
        }
      ]
    },
    {
      "cell_type": "markdown",
      "metadata": {
        "id": "HyvCRzyuqTqp"
      },
      "source": [
        "Carregamos os resultados nos formatos em **.pickle** e **.csv** para utilização do modelo de Machine Learning e na fase de visualização no **Tableu Public**."
      ]
    },
    {
      "cell_type": "code",
      "metadata": {
        "id": "r-x29KBdqTzq"
      },
      "source": [
        "#########################\n",
        "## COMPRIMIR ARQUIVOS  ##\n",
        "#########################\n",
        "\n",
        "comprimir_arquivo(ihme_data,path+'data/','IHGE_data')\n",
        "comprimir_arquivo(who_data_quality,path+'data/','WHO_QLT_data')\n",
        "comprimir_arquivo(who_data,path+'data/','WHO_data')\n",
        "comprimir_arquivo(ihme_data_city,path+'data/','IHGE_CITY_data')\n",
        "comprimir_arquivo(ihme_data_country,path+'data/','IHGE_COUNTRY_data')\n",
        "comprimir_arquivo(metricas_globais,path+'data/','METRICAS_GLOBAIS_data')\n",
        "comprimir_arquivo(global_temp_by_country_data,path+'data/','GSOD_WEATHER_COUNTRY_data')\n",
        "comprimir_arquivo(global_temp_by_city_data,path+'data/','GSOD_WEATHER_CITY_data')"
      ],
      "execution_count": null,
      "outputs": []
    },
    {
      "cell_type": "code",
      "metadata": {
        "id": "Fuj8TdNU7RGM",
        "outputId": "fdd33fb4-8934-4d2d-b926-56c63b3fef63",
        "colab": {
          "base_uri": "https://localhost:8080/",
          "height": 34
        }
      },
      "source": [
        "#########################\n",
        "##  CARREGA ARQUIVOS   ##\n",
        "#########################\n",
        "\n",
        "%%timeit\n",
        "ihme_data = carregar_arquivo(path+'data/','IHGE_data') #1.778.112 registros\n",
        "who_data_quality = carregar_arquivo(path+'data/','WHO_QLT_data') #111 registros, sem valores nulos\n",
        "who_data = carregar_arquivo(path+'data/','WHO_data') #915 registros, sem valores nulos\n",
        "ihme_data_city = carregar_arquivo(path+'data/','IHGE_CITY_data') #1.778.112 registros\n",
        "ihme_data_country = carregar_arquivo(path+'data/','IHGE_COUNTRY_data') #1.778.112 registros \n",
        "metricas_globais = carregar_arquivo(path+'data/','METRICAS_GLOBAIS_data') # 28 registros sem nulos"
      ],
      "execution_count": null,
      "outputs": [
        {
          "output_type": "stream",
          "text": [
            "1 loop, best of 3: 1.31 s per loop\n"
          ],
          "name": "stdout"
        }
      ]
    },
    {
      "cell_type": "markdown",
      "metadata": {
        "id": "J2VAAx1OBEsH"
      },
      "source": [
        "# Análise e Exploração dos Dados"
      ]
    },
    {
      "cell_type": "markdown",
      "metadata": {
        "id": "JB-BPi37rHu3"
      },
      "source": [
        "Nesta etapa avaliamos um pouco dos dados que encontran-se nos datasets `ihme_data_city` e  `ihme_data_country`, como podemos ver no resultado abaixo, os dados de cidade existem apenas para os paíse: **INDONÉSIA, ESTADOS UNIDOS, JAPÃO, MÉXICO, BRASIL, REINO UNIDO, SUÉCIA**\n",
        "\n",
        "Já no dataset `ihme_data_country` todos os países contém dados de temperatura, desta forma será nosso principal dataset de análise."
      ]
    },
    {
      "cell_type": "code",
      "metadata": {
        "id": "3UrHQqkpHwA4",
        "outputId": "fdca63f6-2b69-49de-a616-f98397767458",
        "colab": {
          "base_uri": "https://localhost:8080/",
          "height": 87
        }
      },
      "source": [
        "print('Cidades com valor médio de temperatura ',ihme_data_city[ihme_data_city['City'].notnull()].Country.unique())\n",
        "\n",
        "print('Paises com valor médio de temperatura ',ihme_data_country[ihme_data_country['avg_temp'].notnull()].Country.unique().size)\n",
        "print('Paises sem valor médio de temperatura ',ihme_data_country[ihme_data_country['avg_temp'].isnull()].Country.unique().size)"
      ],
      "execution_count": null,
      "outputs": [
        {
          "output_type": "stream",
          "text": [
            "Cidades com valor médio de temperatura  ['INDONESIA' 'UNITED STATES' 'JAPAN' 'MEXICO' 'BRAZIL' 'UNITED KINGDOM'\n",
            " 'SWEDEN']\n",
            "Paises com valor médio de temperatura  195\n",
            "Paises sem valor médio de temperatura  0\n"
          ],
          "name": "stdout"
        }
      ]
    },
    {
      "cell_type": "code",
      "metadata": {
        "id": "nVaVKdI9MmC1",
        "outputId": "facf127e-5e57-4f4f-f594-dece2cb4536b",
        "colab": {
          "base_uri": "https://localhost:8080/",
          "height": 281
        }
      },
      "source": [
        "p = ihme_data_country[(ihme_data_country['Age'] != 'All Ages') \n",
        "                 & (ihme_data_country['Cause_of_Death'] == 'Self-harm') \n",
        "                 & (ihme_data_country['Sex'] == 'Both')\n",
        "                 & (ihme_data_country['Year'] >= 2005)].hist(bins=15, alpha=0.5, column=\"avg_temp\")"
      ],
      "execution_count": null,
      "outputs": [
        {
          "output_type": "display_data",
          "data": {
            "image/png": "[encoded data removed]",
            "text/plain": [
              "<Figure size 432x288 with 1 Axes>"
            ]
          },
          "metadata": {
            "tags": []
          }
        }
      ]
    },
    {
      "cell_type": "code",
      "metadata": {
        "id": "QKsmCQo5VhhO",
        "outputId": "bc1c44e4-5fcf-472e-dd9a-c00362c0c7b5",
        "colab": {
          "base_uri": "https://localhost:8080/",
          "height": 316
        }
      },
      "source": [
        "ihme_data_country[(ihme_data_country['Age'] != 'All Ages') \n",
        "                 & (ihme_data_country['Cause_of_Death'] == 'Self-harm') \n",
        "                 & (ihme_data_country['Sex'] == 'Both')\n",
        "                 & (ihme_data_country['Year'] >= 2005)].hist(bins=15, alpha=0.5, column=\"Total\")"
      ],
      "execution_count": null,
      "outputs": [
        {
          "output_type": "execute_result",
          "data": {
            "text/plain": [
              "array([[<matplotlib.axes._subplots.AxesSubplot object at 0x7f3545da6208>]],\n",
              "      dtype=object)"
            ]
          },
          "metadata": {
            "tags": []
          },
          "execution_count": 48
        },
        {
          "output_type": "display_data",
          "data": {
            "image/png": "[encoded data removed]",
            "text/plain": [
              "<Figure size 432x288 with 1 Axes>"
            ]
          },
          "metadata": {
            "tags": []
          }
        }
      ]
    },
    {
      "cell_type": "markdown",
      "metadata": {
        "id": "xBD7KGIpj3po"
      },
      "source": [
        "## 1. Países/Estados com maior taxa de suicídio"
      ]
    },
    {
      "cell_type": "markdown",
      "metadata": {
        "id": "CGyz9P0XjMa4"
      },
      "source": [
        "Ordenamos o dataset do IHGE pelos 10 paises com maior taxa de suícídio no último ano (2017),  nesta consulta condideramos todos os Países com dados sobre suicídio confiáveis, de ambos os sexos e de todas as idades.\n",
        "\n",
        "Ordenamos o resultado pela maior taxa de suicídio."
      ]
    },
    {
      "cell_type": "code",
      "metadata": {
        "id": "dFtr85RMj3po",
        "outputId": "04ce72e0-ec15-451f-8290-cfbc0bd069b3",
        "colab": {
          "base_uri": "https://localhost:8080/",
          "height": 273
        }
      },
      "source": [
        "## 1. Países/Estados com maior Rate de suicídio\n",
        "paises_com_maior_rate = ihme_data_country[\n",
        "          (ihme_data_country['Country'].isin(countries_data_quality)) \n",
        "          & (ihme_data_country['Sex'] == 'Both')\n",
        "          & (ihme_data_country['Year'] >= 2017)\n",
        "          & (ihme_data_country['Age'] == 'All Ages')\n",
        "          & (ihme_data_country['Cause_of_Death'] == 'Self-harm')\n",
        "                                                  ].sort_values(by=\"Total\", ascending=False)\n",
        "\n",
        "paises_com_maior_rate.head(10)"
      ],
      "execution_count": null,
      "outputs": [
        {
          "output_type": "execute_result",
          "data": {
            "application/vnd.google.colaboratory.module+javascript": "\n      import \"https://ssl.gstatic.com/colaboratory/data_table/9e554b27bdd509f3/data_table.js\";\n\n      window.createDataTable({\n        data: [[{\n            'v': 165215,\n            'f': \"165215\",\n        },\n\"LITHUANIA\",\n\"Both\",\n\"All Ages\",\n\"Self-harm\",\n{\n            'v': 2017,\n            'f': \"2017\",\n        },\n{\n            'v': 36.26568357431054,\n            'f': \"36.26568357431054\",\n        },\n{\n            'v': 39.102157943141655,\n            'f': \"39.102157943141655\",\n        },\n{\n            'v': 33.58135913343951,\n            'f': \"33.58135913343951\",\n        },\n\"LT\",\n\"55.169438\",\n\"23.881275\",\n{\n            'v': 17.0,\n            'f': \"17.0\",\n        }],\n [{\n            'v': 302303,\n            'f': \"302303\",\n        },\n\"UKRAINE\",\n\"Both\",\n\"All Ages\",\n\"Self-harm\",\n{\n            'v': 2017,\n            'f': \"2017\",\n        },\n{\n            'v': 30.6096013519964,\n            'f': \"30.6096013519964\",\n        },\n{\n            'v': 33.73485913864938,\n            'f': \"33.73485913864938\",\n        },\n{\n            'v': 28.13689754448093,\n            'f': \"28.13689754448093\",\n        },\n\"UA\",\n\"48.379433\",\n\"31.16558\",\n{\n            'v': 8.91,\n            'f': \"8.91\",\n        }],\n [{\n            'v': 407135,\n            'f': \"407135\",\n        },\n\"RUSSIAN FEDERATION\",\n\"Both\",\n\"All Ages\",\n\"Self-harm\",\n{\n            'v': 2017,\n            'f': \"2017\",\n        },\n{\n            'v': 30.02772143703498,\n            'f': \"30.02772143703498\",\n        },\n{\n            'v': 30.872981341975517,\n            'f': \"30.872981341975517\",\n        },\n{\n            'v': 28.977561894573242,\n            'f': \"28.977561894573242\",\n        },\n\"RU\",\n\"61.52401\",\n\"105.318756\",\n{\n            'v': -4.16,\n            'f': \"-4.16\",\n        }],\n [{\n            'v': 298127,\n            'f': \"298127\",\n        },\n\"GUYANA\",\n\"Both\",\n\"All Ages\",\n\"Self-harm\",\n{\n            'v': 2017,\n            'f': \"2017\",\n        },\n{\n            'v': 25.520232977296995,\n            'f': \"25.520232977296995\",\n        },\n{\n            'v': 29.06722169520792,\n            'f': \"29.06722169520792\",\n        },\n{\n            'v': 22.010321032495302,\n            'f': \"22.010321032495302\",\n        },\n\"GY\",\n\"4.860416\",\n\"-58.93018\",\n{\n            'v': 28.0,\n            'f': \"28.0\",\n        }],\n [{\n            'v': 20063,\n            'f': \"20063\",\n        },\n\"BELARUS\",\n\"Both\",\n\"All Ages\",\n\"Self-harm\",\n{\n            'v': 2017,\n            'f': \"2017\",\n        },\n{\n            'v': 24.833589168272447,\n            'f': \"24.833589168272447\",\n        },\n{\n            'v': 27.678957034688267,\n            'f': \"27.678957034688267\",\n        },\n{\n            'v': 22.293826135588002,\n            'f': \"22.293826135588002\",\n        },\n\"BY\",\n\"53.709807\",\n\"27.953389\",\n{\n            'v': 26.0,\n            'f': \"26.0\",\n        }],\n [{\n            'v': 221663,\n            'f': \"221663\",\n        },\n\"KAZAKHSTAN\",\n\"Both\",\n\"All Ages\",\n\"Self-harm\",\n{\n            'v': 2017,\n            'f': \"2017\",\n        },\n{\n            'v': 23.80819329953309,\n            'f': \"23.80819329953309\",\n        },\n{\n            'v': 26.15218327588969,\n            'f': \"26.15218327588969\",\n        },\n{\n            'v': 21.877539357536758,\n            'f': \"21.877539357536758\",\n        },\n\"KZ\",\n\"48.019573\",\n\"66.923684\",\n{\n            'v': 7.0,\n            'f': \"7.0\",\n        }],\n [{\n            'v': 141023,\n            'f': \"141023\",\n        },\n\"LATVIA\",\n\"Both\",\n\"All Ages\",\n\"Self-harm\",\n{\n            'v': 2017,\n            'f': \"2017\",\n        },\n{\n            'v': 22.513890029044905,\n            'f': \"22.513890029044905\",\n        },\n{\n            'v': 25.58009784485573,\n            'f': \"25.58009784485573\",\n        },\n{\n            'v': 19.715740904964328,\n            'f': \"19.715740904964328\",\n        },\n\"LV\",\n\"56.879635\",\n\"24.603189\",\n{\n            'v': 6.59,\n            'f': \"6.59\",\n        }],\n [{\n            'v': 11999,\n            'f': \"11999\",\n        },\n\"JAPAN\",\n\"Both\",\n\"All Ages\",\n\"Self-harm\",\n{\n            'v': 2017,\n            'f': \"2017\",\n        },\n{\n            'v': 22.45076714016776,\n            'f': \"22.45076714016776\",\n        },\n{\n            'v': 23.638843518486386,\n            'f': \"23.638843518486386\",\n        },\n{\n            'v': 21.492890559562593,\n            'f': \"21.492890559562593\",\n        },\n\"JP\",\n\"36.204824\",\n\"138.252924\",\n{\n            'v': 12.82,\n            'f': \"12.82\",\n        }],\n [{\n            'v': 713567,\n            'f': \"713567\",\n        },\n\"HUNGARY\",\n\"Both\",\n\"All Ages\",\n\"Self-harm\",\n{\n            'v': 2017,\n            'f': \"2017\",\n        },\n{\n            'v': 20.822609817286146,\n            'f': \"20.822609817286146\",\n        },\n{\n            'v': 22.283580466374698,\n            'f': \"22.283580466374698\",\n        },\n{\n            'v': 19.52344623409482,\n            'f': \"19.52344623409482\",\n        },\n\"HU\",\n\"47.162494\",\n\"19.503304\",\n{\n            'v': 11.0,\n            'f': \"11.0\",\n        }],\n [{\n            'v': 729695,\n            'f': \"729695\",\n        },\n\"SLOVENIA\",\n\"Both\",\n\"All Ages\",\n\"Self-harm\",\n{\n            'v': 2017,\n            'f': \"2017\",\n        },\n{\n            'v': 20.793950890876914,\n            'f': \"20.793950890876914\",\n        },\n{\n            'v': 22.587057836692125,\n            'f': \"22.587057836692125\",\n        },\n{\n            'v': 18.91235608362581,\n            'f': \"18.91235608362581\",\n        },\n\"SI\",\n\"46.151241\",\n\"14.995463\",\n{\n            'v': 10.0,\n            'f': \"10.0\",\n        }]],\n        columns: [[\"number\", \"index\"], [\"string\", \"Country\"], [\"string\", \"Sex\"], [\"string\", \"Age\"], [\"string\", \"Cause_of_Death\"], [\"number\", \"Year\"], [\"number\", \"Total\"], [\"number\", \"Upper\"], [\"number\", \"Lower\"], [\"string\", \"Country_id\"], [\"string\", \"latitude\"], [\"string\", \"longtude\"], [\"number\", \"avg_temp\"]],\n        columnOptions: [{\"width\": \"1px\", \"className\": \"index_column\"}],\n        rowsPerPage: 25,\n        helpUrl: \"https://colab.research.google.com/notebooks/data_table.ipynb\",\n      });\n    ",
            "text/html": [
              "<div>\n",
              "<style scoped>\n",
              "    .dataframe tbody tr th:only-of-type {\n",
              "        vertical-align: middle;\n",
              "    }\n",
              "\n",
              "    .dataframe tbody tr th {\n",
              "        vertical-align: top;\n",
              "    }\n",
              "\n",
              "    .dataframe thead th {\n",
              "        text-align: right;\n",
              "    }\n",
              "</style>\n",
              "<table border=\"1\" class=\"dataframe\">\n",
              "  <thead>\n",
              "    <tr style=\"text-align: right;\">\n",
              "      <th></th>\n",
              "      <th>Country</th>\n",
              "      <th>Sex</th>\n",
              "      <th>Age</th>\n",
              "      <th>Cause_of_Death</th>\n",
              "      <th>Year</th>\n",
              "      <th>Total</th>\n",
              "      <th>Upper</th>\n",
              "      <th>Lower</th>\n",
              "      <th>Country_id</th>\n",
              "      <th>latitude</th>\n",
              "      <th>longtude</th>\n",
              "      <th>avg_temp</th>\n",
              "    </tr>\n",
              "  </thead>\n",
              "  <tbody>\n",
              "    <tr>\n",
              "      <th>165215</th>\n",
              "      <td>LITHUANIA</td>\n",
              "      <td>Both</td>\n",
              "      <td>All Ages</td>\n",
              "      <td>Self-harm</td>\n",
              "      <td>2017</td>\n",
              "      <td>36.265684</td>\n",
              "      <td>39.102158</td>\n",
              "      <td>33.581359</td>\n",
              "      <td>LT</td>\n",
              "      <td>55.169438</td>\n",
              "      <td>23.881275</td>\n",
              "      <td>17.00</td>\n",
              "    </tr>\n",
              "    <tr>\n",
              "      <th>302303</th>\n",
              "      <td>UKRAINE</td>\n",
              "      <td>Both</td>\n",
              "      <td>All Ages</td>\n",
              "      <td>Self-harm</td>\n",
              "      <td>2017</td>\n",
              "      <td>30.609601</td>\n",
              "      <td>33.734859</td>\n",
              "      <td>28.136898</td>\n",
              "      <td>UA</td>\n",
              "      <td>48.379433</td>\n",
              "      <td>31.16558</td>\n",
              "      <td>8.91</td>\n",
              "    </tr>\n",
              "    <tr>\n",
              "      <th>407135</th>\n",
              "      <td>RUSSIAN FEDERATION</td>\n",
              "      <td>Both</td>\n",
              "      <td>All Ages</td>\n",
              "      <td>Self-harm</td>\n",
              "      <td>2017</td>\n",
              "      <td>30.027721</td>\n",
              "      <td>30.872981</td>\n",
              "      <td>28.977562</td>\n",
              "      <td>RU</td>\n",
              "      <td>61.52401</td>\n",
              "      <td>105.318756</td>\n",
              "      <td>-4.16</td>\n",
              "    </tr>\n",
              "    <tr>\n",
              "      <th>298127</th>\n",
              "      <td>GUYANA</td>\n",
              "      <td>Both</td>\n",
              "      <td>All Ages</td>\n",
              "      <td>Self-harm</td>\n",
              "      <td>2017</td>\n",
              "      <td>25.520233</td>\n",
              "      <td>29.067222</td>\n",
              "      <td>22.010321</td>\n",
              "      <td>GY</td>\n",
              "      <td>4.860416</td>\n",
              "      <td>-58.93018</td>\n",
              "      <td>28.00</td>\n",
              "    </tr>\n",
              "    <tr>\n",
              "      <th>20063</th>\n",
              "      <td>BELARUS</td>\n",
              "      <td>Both</td>\n",
              "      <td>All Ages</td>\n",
              "      <td>Self-harm</td>\n",
              "      <td>2017</td>\n",
              "      <td>24.833589</td>\n",
              "      <td>27.678957</td>\n",
              "      <td>22.293826</td>\n",
              "      <td>BY</td>\n",
              "      <td>53.709807</td>\n",
              "      <td>27.953389</td>\n",
              "      <td>26.00</td>\n",
              "    </tr>\n",
              "    <tr>\n",
              "      <th>221663</th>\n",
              "      <td>KAZAKHSTAN</td>\n",
              "      <td>Both</td>\n",
              "      <td>All Ages</td>\n",
              "      <td>Self-harm</td>\n",
              "      <td>2017</td>\n",
              "      <td>23.808193</td>\n",
              "      <td>26.152183</td>\n",
              "      <td>21.877539</td>\n",
              "      <td>KZ</td>\n",
              "      <td>48.019573</td>\n",
              "      <td>66.923684</td>\n",
              "      <td>7.00</td>\n",
              "    </tr>\n",
              "    <tr>\n",
              "      <th>141023</th>\n",
              "      <td>LATVIA</td>\n",
              "      <td>Both</td>\n",
              "      <td>All Ages</td>\n",
              "      <td>Self-harm</td>\n",
              "      <td>2017</td>\n",
              "      <td>22.513890</td>\n",
              "      <td>25.580098</td>\n",
              "      <td>19.715741</td>\n",
              "      <td>LV</td>\n",
              "      <td>56.879635</td>\n",
              "      <td>24.603189</td>\n",
              "      <td>6.59</td>\n",
              "    </tr>\n",
              "    <tr>\n",
              "      <th>11999</th>\n",
              "      <td>JAPAN</td>\n",
              "      <td>Both</td>\n",
              "      <td>All Ages</td>\n",
              "      <td>Self-harm</td>\n",
              "      <td>2017</td>\n",
              "      <td>22.450767</td>\n",
              "      <td>23.638844</td>\n",
              "      <td>21.492891</td>\n",
              "      <td>JP</td>\n",
              "      <td>36.204824</td>\n",
              "      <td>138.252924</td>\n",
              "      <td>12.82</td>\n",
              "    </tr>\n",
              "    <tr>\n",
              "      <th>713567</th>\n",
              "      <td>HUNGARY</td>\n",
              "      <td>Both</td>\n",
              "      <td>All Ages</td>\n",
              "      <td>Self-harm</td>\n",
              "      <td>2017</td>\n",
              "      <td>20.822610</td>\n",
              "      <td>22.283580</td>\n",
              "      <td>19.523446</td>\n",
              "      <td>HU</td>\n",
              "      <td>47.162494</td>\n",
              "      <td>19.503304</td>\n",
              "      <td>11.00</td>\n",
              "    </tr>\n",
              "    <tr>\n",
              "      <th>729695</th>\n",
              "      <td>SLOVENIA</td>\n",
              "      <td>Both</td>\n",
              "      <td>All Ages</td>\n",
              "      <td>Self-harm</td>\n",
              "      <td>2017</td>\n",
              "      <td>20.793951</td>\n",
              "      <td>22.587058</td>\n",
              "      <td>18.912356</td>\n",
              "      <td>SI</td>\n",
              "      <td>46.151241</td>\n",
              "      <td>14.995463</td>\n",
              "      <td>10.00</td>\n",
              "    </tr>\n",
              "  </tbody>\n",
              "</table>\n",
              "</div>"
            ],
            "text/plain": [
              "                   Country   Sex       Age  ...   latitude    longtude  avg_temp\n",
              "165215           LITHUANIA  Both  All Ages  ...  55.169438   23.881275     17.00\n",
              "302303             UKRAINE  Both  All Ages  ...  48.379433    31.16558      8.91\n",
              "407135  RUSSIAN FEDERATION  Both  All Ages  ...   61.52401  105.318756     -4.16\n",
              "298127              GUYANA  Both  All Ages  ...   4.860416   -58.93018     28.00\n",
              "20063              BELARUS  Both  All Ages  ...  53.709807   27.953389     26.00\n",
              "221663          KAZAKHSTAN  Both  All Ages  ...  48.019573   66.923684      7.00\n",
              "141023              LATVIA  Both  All Ages  ...  56.879635   24.603189      6.59\n",
              "11999                JAPAN  Both  All Ages  ...  36.204824  138.252924     12.82\n",
              "713567             HUNGARY  Both  All Ages  ...  47.162494   19.503304     11.00\n",
              "729695            SLOVENIA  Both  All Ages  ...  46.151241   14.995463     10.00\n",
              "\n",
              "[10 rows x 12 columns]"
            ]
          },
          "metadata": {
            "tags": []
          },
          "execution_count": 50
        }
      ]
    },
    {
      "cell_type": "markdown",
      "metadata": {
        "id": "fp04wikUkU25"
      },
      "source": [
        "Como podemos avaliar na tabela acima, os principais países com maior taxa de suicídio no mundo são: **Lituania, Ucrânia, Russia, Guiana, Belarus, Cazaquistão, Letônia, Japão, Sri Lanka e Hungria.**\n",
        "\n",
        "Para avaliar a diferença entre a classificação de países com dados confiáveis (classificação determinada pela WHO) e os demais paises, podemos constatar que a **Groelândia, Sul da Korea, Lesodo, Suriname e Kiribati** aparecem na lista com os maiores taxas mundiais:"
      ]
    },
    {
      "cell_type": "code",
      "metadata": {
        "id": "6hOdaZ00no1M",
        "outputId": "7eea5a5e-893b-44c8-c5d4-7aad661470d8",
        "colab": {
          "base_uri": "https://localhost:8080/",
          "height": 273
        }
      },
      "source": [
        "## 1. Países/Estados com maior Rate de suicídio desconsiderando lista de paises com dados confiáveis\n",
        "paises_com_maior_rate_all = ihme_data_country[\n",
        "          (ihme_data_country['Sex'] == 'Both')\n",
        "          & (ihme_data_country['Year'] >= 2017)\n",
        "          & (ihme_data_country['Age'] == 'All Ages')\n",
        "          & (ihme_data_country['Cause_of_Death'] == 'Self-harm')\n",
        "                                                  ].sort_values(by=\"Total\", ascending=False)\n",
        "\n",
        "paises_com_maior_rate_all.head(10)"
      ],
      "execution_count": null,
      "outputs": [
        {
          "output_type": "execute_result",
          "data": {
            "application/vnd.google.colaboratory.module+javascript": "\n      import \"https://ssl.gstatic.com/colaboratory/data_table/9e554b27bdd509f3/data_table.js\";\n\n      window.createDataTable({\n        data: [[{\n            'v': 709535,\n            'f': \"709535\",\n        },\n\"GREENLAND\",\n\"Both\",\n\"All Ages\",\n\"Self-harm\",\n{\n            'v': 2017,\n            'f': \"2017\",\n        },\n{\n            'v': 57.61143425131231,\n            'f': \"57.61143425131231\",\n        },\n{\n            'v': 66.10503862865582,\n            'f': \"66.10503862865582\",\n        },\n{\n            'v': 52.3137945787711,\n            'f': \"52.3137945787711\",\n        },\n\"GL\",\n\"71.706936\",\n\"-42.604303\",\n{\n            'v': -5.0,\n            'f': \"-5.0\",\n        }],\n [{\n            'v': 165215,\n            'f': \"165215\",\n        },\n\"LITHUANIA\",\n\"Both\",\n\"All Ages\",\n\"Self-harm\",\n{\n            'v': 2017,\n            'f': \"2017\",\n        },\n{\n            'v': 36.26568357431054,\n            'f': \"36.26568357431054\",\n        },\n{\n            'v': 39.102157943141655,\n            'f': \"39.102157943141655\",\n        },\n{\n            'v': 33.58135913343951,\n            'f': \"33.58135913343951\",\n        },\n\"LT\",\n\"55.169438\",\n\"23.881275\",\n{\n            'v': 17.0,\n            'f': \"17.0\",\n        }],\n [{\n            'v': 302303,\n            'f': \"302303\",\n        },\n\"UKRAINE\",\n\"Both\",\n\"All Ages\",\n\"Self-harm\",\n{\n            'v': 2017,\n            'f': \"2017\",\n        },\n{\n            'v': 30.6096013519964,\n            'f': \"30.6096013519964\",\n        },\n{\n            'v': 33.73485913864938,\n            'f': \"33.73485913864938\",\n        },\n{\n            'v': 28.13689754448093,\n            'f': \"28.13689754448093\",\n        },\n\"UA\",\n\"48.379433\",\n\"31.16558\",\n{\n            'v': 8.91,\n            'f': \"8.91\",\n        }],\n [{\n            'v': 407135,\n            'f': \"407135\",\n        },\n\"RUSSIAN FEDERATION\",\n\"Both\",\n\"All Ages\",\n\"Self-harm\",\n{\n            'v': 2017,\n            'f': \"2017\",\n        },\n{\n            'v': 30.02772143703498,\n            'f': \"30.02772143703498\",\n        },\n{\n            'v': 30.872981341975517,\n            'f': \"30.872981341975517\",\n        },\n{\n            'v': 28.977561894573242,\n            'f': \"28.977561894573242\",\n        },\n\"RU\",\n\"61.52401\",\n\"105.318756\",\n{\n            'v': -4.16,\n            'f': \"-4.16\",\n        }],\n [{\n            'v': 76607,\n            'f': \"76607\",\n        },\n\"SOUTH KOREA\",\n\"Both\",\n\"All Ages\",\n\"Self-harm\",\n{\n            'v': 2017,\n            'f': \"2017\",\n        },\n{\n            'v': 28.91192755998843,\n            'f': \"28.91192755998843\",\n        },\n{\n            'v': 31.523744000476388,\n            'f': \"31.523744000476388\",\n        },\n{\n            'v': 26.420735152709106,\n            'f': \"26.420735152709106\",\n        },\n\"KR\",\n\"35.907757\",\n\"127.766922\",\n{\n            'v': 28.0,\n            'f': \"28.0\",\n        }],\n [{\n            'v': 28127,\n            'f': \"28127\",\n        },\n\"LESOTHO\",\n\"Both\",\n\"All Ages\",\n\"Self-harm\",\n{\n            'v': 2017,\n            'f': \"2017\",\n        },\n{\n            'v': 26.27173396748663,\n            'f': \"26.27173396748663\",\n        },\n{\n            'v': 33.075378314042766,\n            'f': \"33.075378314042766\",\n        },\n{\n            'v': 19.996356298956112,\n            'f': \"19.996356298956112\",\n        },\n\"LS\",\n\"-29.609988\",\n\"28.233608\",\n{\n            'v': 11.0,\n            'f': \"11.0\",\n        }],\n [{\n            'v': 294239,\n            'f': \"294239\",\n        },\n\"SURINAME\",\n\"Both\",\n\"All Ages\",\n\"Self-harm\",\n{\n            'v': 2017,\n            'f': \"2017\",\n        },\n{\n            'v': 25.684809959015478,\n            'f': \"25.684809959015478\",\n        },\n{\n            'v': 29.090050819114808,\n            'f': \"29.090050819114808\",\n        },\n{\n            'v': 22.370977249733553,\n            'f': \"22.370977249733553\",\n        },\n\"SR\",\n\"3.919305\",\n\"-56.027783\",\n{\n            'v': 26.97,\n            'f': \"26.97\",\n        }],\n [{\n            'v': 298127,\n            'f': \"298127\",\n        },\n\"GUYANA\",\n\"Both\",\n\"All Ages\",\n\"Self-harm\",\n{\n            'v': 2017,\n            'f': \"2017\",\n        },\n{\n            'v': 25.520232977296995,\n            'f': \"25.520232977296995\",\n        },\n{\n            'v': 29.06722169520792,\n            'f': \"29.06722169520792\",\n        },\n{\n            'v': 22.010321032495302,\n            'f': \"22.010321032495302\",\n        },\n\"GY\",\n\"4.860416\",\n\"-58.93018\",\n{\n            'v': 28.0,\n            'f': \"28.0\",\n        }],\n [{\n            'v': 471626,\n            'f': \"471626\",\n        },\n\"KIRIBATI\",\n\"Both\",\n\"All Ages\",\n\"Self-harm\",\n{\n            'v': 2017,\n            'f': \"2017\",\n        },\n{\n            'v': 25.17168958737811,\n            'f': \"25.17168958737811\",\n        },\n{\n            'v': 31.11454308351347,\n            'f': \"31.11454308351347\",\n        },\n{\n            'v': 19.133852093285288,\n            'f': \"19.133852093285288\",\n        },\n\"KI\",\n\"-3.370417\",\n\"-168.734039\",\n{\n            'v': 27.4,\n            'f': \"27.4\",\n        }],\n [{\n            'v': 20063,\n            'f': \"20063\",\n        },\n\"BELARUS\",\n\"Both\",\n\"All Ages\",\n\"Self-harm\",\n{\n            'v': 2017,\n            'f': \"2017\",\n        },\n{\n            'v': 24.833589168272447,\n            'f': \"24.833589168272447\",\n        },\n{\n            'v': 27.678957034688267,\n            'f': \"27.678957034688267\",\n        },\n{\n            'v': 22.293826135588002,\n            'f': \"22.293826135588002\",\n        },\n\"BY\",\n\"53.709807\",\n\"27.953389\",\n{\n            'v': 26.0,\n            'f': \"26.0\",\n        }]],\n        columns: [[\"number\", \"index\"], [\"string\", \"Country\"], [\"string\", \"Sex\"], [\"string\", \"Age\"], [\"string\", \"Cause_of_Death\"], [\"number\", \"Year\"], [\"number\", \"Total\"], [\"number\", \"Upper\"], [\"number\", \"Lower\"], [\"string\", \"Country_id\"], [\"string\", \"latitude\"], [\"string\", \"longtude\"], [\"number\", \"avg_temp\"]],\n        columnOptions: [{\"width\": \"1px\", \"className\": \"index_column\"}],\n        rowsPerPage: 25,\n        helpUrl: \"https://colab.research.google.com/notebooks/data_table.ipynb\",\n      });\n    ",
            "text/html": [
              "<div>\n",
              "<style scoped>\n",
              "    .dataframe tbody tr th:only-of-type {\n",
              "        vertical-align: middle;\n",
              "    }\n",
              "\n",
              "    .dataframe tbody tr th {\n",
              "        vertical-align: top;\n",
              "    }\n",
              "\n",
              "    .dataframe thead th {\n",
              "        text-align: right;\n",
              "    }\n",
              "</style>\n",
              "<table border=\"1\" class=\"dataframe\">\n",
              "  <thead>\n",
              "    <tr style=\"text-align: right;\">\n",
              "      <th></th>\n",
              "      <th>Country</th>\n",
              "      <th>Sex</th>\n",
              "      <th>Age</th>\n",
              "      <th>Cause_of_Death</th>\n",
              "      <th>Year</th>\n",
              "      <th>Total</th>\n",
              "      <th>Upper</th>\n",
              "      <th>Lower</th>\n",
              "      <th>Country_id</th>\n",
              "      <th>latitude</th>\n",
              "      <th>longtude</th>\n",
              "      <th>avg_temp</th>\n",
              "    </tr>\n",
              "  </thead>\n",
              "  <tbody>\n",
              "    <tr>\n",
              "      <th>709535</th>\n",
              "      <td>GREENLAND</td>\n",
              "      <td>Both</td>\n",
              "      <td>All Ages</td>\n",
              "      <td>Self-harm</td>\n",
              "      <td>2017</td>\n",
              "      <td>57.611434</td>\n",
              "      <td>66.105039</td>\n",
              "      <td>52.313795</td>\n",
              "      <td>GL</td>\n",
              "      <td>71.706936</td>\n",
              "      <td>-42.604303</td>\n",
              "      <td>-5.00</td>\n",
              "    </tr>\n",
              "    <tr>\n",
              "      <th>165215</th>\n",
              "      <td>LITHUANIA</td>\n",
              "      <td>Both</td>\n",
              "      <td>All Ages</td>\n",
              "      <td>Self-harm</td>\n",
              "      <td>2017</td>\n",
              "      <td>36.265684</td>\n",
              "      <td>39.102158</td>\n",
              "      <td>33.581359</td>\n",
              "      <td>LT</td>\n",
              "      <td>55.169438</td>\n",
              "      <td>23.881275</td>\n",
              "      <td>17.00</td>\n",
              "    </tr>\n",
              "    <tr>\n",
              "      <th>302303</th>\n",
              "      <td>UKRAINE</td>\n",
              "      <td>Both</td>\n",
              "      <td>All Ages</td>\n",
              "      <td>Self-harm</td>\n",
              "      <td>2017</td>\n",
              "      <td>30.609601</td>\n",
              "      <td>33.734859</td>\n",
              "      <td>28.136898</td>\n",
              "      <td>UA</td>\n",
              "      <td>48.379433</td>\n",
              "      <td>31.16558</td>\n",
              "      <td>8.91</td>\n",
              "    </tr>\n",
              "    <tr>\n",
              "      <th>407135</th>\n",
              "      <td>RUSSIAN FEDERATION</td>\n",
              "      <td>Both</td>\n",
              "      <td>All Ages</td>\n",
              "      <td>Self-harm</td>\n",
              "      <td>2017</td>\n",
              "      <td>30.027721</td>\n",
              "      <td>30.872981</td>\n",
              "      <td>28.977562</td>\n",
              "      <td>RU</td>\n",
              "      <td>61.52401</td>\n",
              "      <td>105.318756</td>\n",
              "      <td>-4.16</td>\n",
              "    </tr>\n",
              "    <tr>\n",
              "      <th>76607</th>\n",
              "      <td>SOUTH KOREA</td>\n",
              "      <td>Both</td>\n",
              "      <td>All Ages</td>\n",
              "      <td>Self-harm</td>\n",
              "      <td>2017</td>\n",
              "      <td>28.911928</td>\n",
              "      <td>31.523744</td>\n",
              "      <td>26.420735</td>\n",
              "      <td>KR</td>\n",
              "      <td>35.907757</td>\n",
              "      <td>127.766922</td>\n",
              "      <td>28.00</td>\n",
              "    </tr>\n",
              "    <tr>\n",
              "      <th>28127</th>\n",
              "      <td>LESOTHO</td>\n",
              "      <td>Both</td>\n",
              "      <td>All Ages</td>\n",
              "      <td>Self-harm</td>\n",
              "      <td>2017</td>\n",
              "      <td>26.271734</td>\n",
              "      <td>33.075378</td>\n",
              "      <td>19.996356</td>\n",
              "      <td>LS</td>\n",
              "      <td>-29.609988</td>\n",
              "      <td>28.233608</td>\n",
              "      <td>11.00</td>\n",
              "    </tr>\n",
              "    <tr>\n",
              "      <th>294239</th>\n",
              "      <td>SURINAME</td>\n",
              "      <td>Both</td>\n",
              "      <td>All Ages</td>\n",
              "      <td>Self-harm</td>\n",
              "      <td>2017</td>\n",
              "      <td>25.684810</td>\n",
              "      <td>29.090051</td>\n",
              "      <td>22.370977</td>\n",
              "      <td>SR</td>\n",
              "      <td>3.919305</td>\n",
              "      <td>-56.027783</td>\n",
              "      <td>26.97</td>\n",
              "    </tr>\n",
              "    <tr>\n",
              "      <th>298127</th>\n",
              "      <td>GUYANA</td>\n",
              "      <td>Both</td>\n",
              "      <td>All Ages</td>\n",
              "      <td>Self-harm</td>\n",
              "      <td>2017</td>\n",
              "      <td>25.520233</td>\n",
              "      <td>29.067222</td>\n",
              "      <td>22.010321</td>\n",
              "      <td>GY</td>\n",
              "      <td>4.860416</td>\n",
              "      <td>-58.93018</td>\n",
              "      <td>28.00</td>\n",
              "    </tr>\n",
              "    <tr>\n",
              "      <th>471626</th>\n",
              "      <td>KIRIBATI</td>\n",
              "      <td>Both</td>\n",
              "      <td>All Ages</td>\n",
              "      <td>Self-harm</td>\n",
              "      <td>2017</td>\n",
              "      <td>25.171690</td>\n",
              "      <td>31.114543</td>\n",
              "      <td>19.133852</td>\n",
              "      <td>KI</td>\n",
              "      <td>-3.370417</td>\n",
              "      <td>-168.734039</td>\n",
              "      <td>27.40</td>\n",
              "    </tr>\n",
              "    <tr>\n",
              "      <th>20063</th>\n",
              "      <td>BELARUS</td>\n",
              "      <td>Both</td>\n",
              "      <td>All Ages</td>\n",
              "      <td>Self-harm</td>\n",
              "      <td>2017</td>\n",
              "      <td>24.833589</td>\n",
              "      <td>27.678957</td>\n",
              "      <td>22.293826</td>\n",
              "      <td>BY</td>\n",
              "      <td>53.709807</td>\n",
              "      <td>27.953389</td>\n",
              "      <td>26.00</td>\n",
              "    </tr>\n",
              "  </tbody>\n",
              "</table>\n",
              "</div>"
            ],
            "text/plain": [
              "                   Country   Sex       Age  ...    latitude     longtude  avg_temp\n",
              "709535           GREENLAND  Both  All Ages  ...   71.706936   -42.604303     -5.00\n",
              "165215           LITHUANIA  Both  All Ages  ...   55.169438    23.881275     17.00\n",
              "302303             UKRAINE  Both  All Ages  ...   48.379433     31.16558      8.91\n",
              "407135  RUSSIAN FEDERATION  Both  All Ages  ...    61.52401   105.318756     -4.16\n",
              "76607          SOUTH KOREA  Both  All Ages  ...   35.907757   127.766922     28.00\n",
              "28127              LESOTHO  Both  All Ages  ...  -29.609988    28.233608     11.00\n",
              "294239            SURINAME  Both  All Ages  ...    3.919305   -56.027783     26.97\n",
              "298127              GUYANA  Both  All Ages  ...    4.860416    -58.93018     28.00\n",
              "471626            KIRIBATI  Both  All Ages  ...   -3.370417  -168.734039     27.40\n",
              "20063              BELARUS  Both  All Ages  ...   53.709807    27.953389     26.00\n",
              "\n",
              "[10 rows x 12 columns]"
            ]
          },
          "metadata": {
            "tags": []
          },
          "execution_count": 53
        }
      ]
    },
    {
      "cell_type": "markdown",
      "metadata": {
        "id": "1otWgRLEqbNi"
      },
      "source": [
        "Considerando **todos os países** do dataset, calculamos a média/desvio padrão de taxa de suicídio dos 10 primeiros paises do ranking, comparando a média amostral pelo desvio padrão podemos constatar que há uma dispersão representativa nos dados, isso representa que as taxas de suicídio entre esses países nos anos analisados (1990 a 2017) são dispersos, nos indicando algum aumento ou diminuição na taxa entre cada ano, podendo representar evento átipico no país ou até mesmo representar a má consistência/qualidade nos dados coletados."
      ]
    },
    {
      "cell_type": "code",
      "metadata": {
        "scrolled": true,
        "id": "OHVJW88Lj3pu",
        "outputId": "75c4976d-7422-411b-b43d-119a5ec5919a",
        "colab": {
          "base_uri": "https://localhost:8080/",
          "height": 273
        }
      },
      "source": [
        "# Média e STD de cada Pais\n",
        "ihme_data_country[\n",
        "          (ihme_data_country['Sex'] == 'Both')\n",
        "          & (ihme_data_country['Age'] == 'All Ages')\n",
        "          & (ihme_data_country['Cause_of_Death'] == 'Self-harm')\n",
        "          ].groupby(\"Country\").agg(['mean', 'std']).Total.sort_values(by='mean',ascending=False).head(10)"
      ],
      "execution_count": null,
      "outputs": [
        {
          "output_type": "execute_result",
          "data": {
            "application/vnd.google.colaboratory.module+javascript": "\n      import \"https://ssl.gstatic.com/colaboratory/data_table/9e554b27bdd509f3/data_table.js\";\n\n      window.createDataTable({\n        data: [[\"GREENLAND\",\n{\n            'v': 77.89511135961331,\n            'f': \"77.89511135961331\",\n        },\n{\n            'v': 13.26846766789714,\n            'f': \"13.26846766789714\",\n        }],\n [\"RUSSIAN FEDERATION\",\n{\n            'v': 42.66821952907021,\n            'f': \"42.66821952907021\",\n        },\n{\n            'v': 8.351362878639623,\n            'f': \"8.351362878639623\",\n        }],\n [\"LITHUANIA\",\n{\n            'v': 42.55203482621386,\n            'f': \"42.55203482621386\",\n        },\n{\n            'v': 5.164574925888108,\n            'f': \"5.164574925888108\",\n        }],\n [\"BELARUS\",\n{\n            'v': 34.452683248157534,\n            'f': \"34.452683248157534\",\n        },\n{\n            'v': 6.762973377144137,\n            'f': \"6.762973377144137\",\n        }],\n [\"LATVIA\",\n{\n            'v': 31.150859497879157,\n            'f': \"31.150859497879157\",\n        },\n{\n            'v': 7.048007980182384,\n            'f': \"7.048007980182384\",\n        }],\n [\"UKRAINE\",\n{\n            'v': 30.59560485141704,\n            'f': \"30.59560485141704\",\n        },\n{\n            'v': 4.522637655592059,\n            'f': \"4.522637655592059\",\n        }],\n [\"KAZAKHSTAN\",\n{\n            'v': 30.222264985541464,\n            'f': \"30.222264985541464\",\n        },\n{\n            'v': 6.0460059322456265,\n            'f': \"6.0460059322456265\",\n        }],\n [\"HUNGARY\",\n{\n            'v': 29.32357637800413,\n            'f': \"29.32357637800413\",\n        },\n{\n            'v': 6.133017384479533,\n            'f': \"6.133017384479533\",\n        }],\n [\"SRI LANKA\",\n{\n            'v': 29.09489779786376,\n            'f': \"29.09489779786376\",\n        },\n{\n            'v': 6.794802365491226,\n            'f': \"6.794802365491226\",\n        }],\n [\"ESTONIA\",\n{\n            'v': 28.71959593623861,\n            'f': \"28.71959593623861\",\n        },\n{\n            'v': 8.771486346769732,\n            'f': \"8.771486346769732\",\n        }]],\n        columns: [[\"string\", \"Country\"], [\"number\", \"mean\"], [\"number\", \"std\"]],\n        columnOptions: [{\"width\": \"1px\", \"className\": \"index_column\"}],\n        rowsPerPage: 25,\n        helpUrl: \"https://colab.research.google.com/notebooks/data_table.ipynb\",\n      });\n    ",
            "text/html": [
              "<div>\n",
              "<style scoped>\n",
              "    .dataframe tbody tr th:only-of-type {\n",
              "        vertical-align: middle;\n",
              "    }\n",
              "\n",
              "    .dataframe tbody tr th {\n",
              "        vertical-align: top;\n",
              "    }\n",
              "\n",
              "    .dataframe thead th {\n",
              "        text-align: right;\n",
              "    }\n",
              "</style>\n",
              "<table border=\"1\" class=\"dataframe\">\n",
              "  <thead>\n",
              "    <tr style=\"text-align: right;\">\n",
              "      <th></th>\n",
              "      <th>mean</th>\n",
              "      <th>std</th>\n",
              "    </tr>\n",
              "    <tr>\n",
              "      <th>Country</th>\n",
              "      <th></th>\n",
              "      <th></th>\n",
              "    </tr>\n",
              "  </thead>\n",
              "  <tbody>\n",
              "    <tr>\n",
              "      <th>GREENLAND</th>\n",
              "      <td>77.895111</td>\n",
              "      <td>13.268468</td>\n",
              "    </tr>\n",
              "    <tr>\n",
              "      <th>RUSSIAN FEDERATION</th>\n",
              "      <td>42.668220</td>\n",
              "      <td>8.351363</td>\n",
              "    </tr>\n",
              "    <tr>\n",
              "      <th>LITHUANIA</th>\n",
              "      <td>42.552035</td>\n",
              "      <td>5.164575</td>\n",
              "    </tr>\n",
              "    <tr>\n",
              "      <th>BELARUS</th>\n",
              "      <td>34.452683</td>\n",
              "      <td>6.762973</td>\n",
              "    </tr>\n",
              "    <tr>\n",
              "      <th>LATVIA</th>\n",
              "      <td>31.150859</td>\n",
              "      <td>7.048008</td>\n",
              "    </tr>\n",
              "    <tr>\n",
              "      <th>UKRAINE</th>\n",
              "      <td>30.595605</td>\n",
              "      <td>4.522638</td>\n",
              "    </tr>\n",
              "    <tr>\n",
              "      <th>KAZAKHSTAN</th>\n",
              "      <td>30.222265</td>\n",
              "      <td>6.046006</td>\n",
              "    </tr>\n",
              "    <tr>\n",
              "      <th>HUNGARY</th>\n",
              "      <td>29.323576</td>\n",
              "      <td>6.133017</td>\n",
              "    </tr>\n",
              "    <tr>\n",
              "      <th>SRI LANKA</th>\n",
              "      <td>29.094898</td>\n",
              "      <td>6.794802</td>\n",
              "    </tr>\n",
              "    <tr>\n",
              "      <th>ESTONIA</th>\n",
              "      <td>28.719596</td>\n",
              "      <td>8.771486</td>\n",
              "    </tr>\n",
              "  </tbody>\n",
              "</table>\n",
              "</div>"
            ],
            "text/plain": [
              "                         mean        std\n",
              "Country                                 \n",
              "GREENLAND           77.895111  13.268468\n",
              "RUSSIAN FEDERATION  42.668220   8.351363\n",
              "LITHUANIA           42.552035   5.164575\n",
              "BELARUS             34.452683   6.762973\n",
              "LATVIA              31.150859   7.048008\n",
              "UKRAINE             30.595605   4.522638\n",
              "KAZAKHSTAN          30.222265   6.046006\n",
              "HUNGARY             29.323576   6.133017\n",
              "SRI LANKA           29.094898   6.794802\n",
              "ESTONIA             28.719596   8.771486"
            ]
          },
          "metadata": {
            "tags": []
          },
          "execution_count": 55
        }
      ]
    },
    {
      "cell_type": "markdown",
      "metadata": {
        "id": "-M-EcKQPj3pw"
      },
      "source": [
        "## 2. Países onde a taxa de suicídio feminino é maior do que o masculino"
      ]
    },
    {
      "cell_type": "markdown",
      "metadata": {
        "id": "WYKq8lla0oW4"
      },
      "source": [
        "O público mais acometido por suícídio em relação a média mundial é o sexo masculino, desta forma em nosso trabalho também buscamos avaliar em relação ao sexo feminino quais países as taxas de suícídio entre mulheres era mais alta do que entre homens desde 2000 até 2017 e chegamos nos seguintes países: **Antígua e Barbuda, Bangladesh, China, Granada, Lesoto, Marrocos, Mianmar, Nigéria, Paquistão e Uganda.**\n",
        "\n",
        "Sendo alguns paises com predominância da religião islâmica, opressão feminina e desigualdade de gênero."
      ]
    },
    {
      "cell_type": "code",
      "metadata": {
        "id": "6IeibCPqj3px",
        "outputId": "29c27139-df32-458f-8de8-1f86b6f29c3f",
        "colab": {
          "base_uri": "https://localhost:8080/",
          "height": 70
        }
      },
      "source": [
        "paises_taxa_feminino_maior_masc = who_data_quality[(\n",
        "                                who_data_quality.Country.isin(\n",
        "                                    who_data[(who_data['Female_SU'] > who_data['Male_SU']) \n",
        "                                    & (who_data['Year'] > 2000)].Country)) \n",
        "                                & (who_data_quality['Completeness'] > 0.70)]\n",
        "\n",
        "paises_taxa_feminino_maior_masc\n",
        "\n",
        "who_data[(who_data['Female_SU'] > who_data['Male_SU'])].Country.unique()"
      ],
      "execution_count": null,
      "outputs": [
        {
          "output_type": "execute_result",
          "data": {
            "text/plain": [
              "array(['Antigua and Barbuda', 'Bangladesh', 'China', 'Grenada', 'Lesotho',\n",
              "       'Morocco', 'Myanmar', 'Nigeria', 'Pakistan', 'Uganda'],\n",
              "      dtype=object)"
            ]
          },
          "metadata": {
            "tags": []
          },
          "execution_count": 56
        }
      ]
    },
    {
      "cell_type": "markdown",
      "metadata": {
        "id": "gGIgCwt7j3p0"
      },
      "source": [
        "## 3. Países com maiores taxas de suicídio feminino"
      ]
    },
    {
      "cell_type": "markdown",
      "metadata": {
        "id": "qtwz-KGMtrgT"
      },
      "source": [
        "Buscamos identificar quais paises a taxa de suicídio feminino é maior que a taxa de suicídio mundial (12,5) e encontramos os seguintes países: **Japão, Bielorrússia, Estônia, Cuba, Sri Lanka, Suíça, Letônia, Lituânia, Cazaquistão, África do Sul, Ucrânia, Ucrânia, Suécia, Bulgária, Sérvia, Federação Russa, Croácia, Finlândia, Áustria, Dinamarca, Dinamarca, Bélgica, Dinamarca**\n",
        "\n",
        "Sendo a maioria destes países pertencentes aos continentes Asiático e Africano."
      ]
    },
    {
      "cell_type": "code",
      "metadata": {
        "id": "mn5Y9XjHj3p1",
        "outputId": "5491a3f3-a8e7-466f-8ad9-bba108c07d3b",
        "colab": {
          "base_uri": "https://localhost:8080/",
          "height": 87
        }
      },
      "source": [
        "paises_com_alto_SU_feminino = ihme_data_country[(ihme_data_country['Sex'] == 'Female') \n",
        "                                        & (ihme_data_country['Total'] > mean_global_suicide)\n",
        "                                        & (ihme_data_country['Age'] == 'All Ages') \n",
        "                                        & (ihme_data_country['Cause_of_Death'] == 'Self-harm')\n",
        "                                        & (ihme_data_country['Country'].isin(countries_data_quality))\n",
        "                                       ]\n",
        "\n",
        "paises_com_alto_SU_feminino.Country.unique()"
      ],
      "execution_count": null,
      "outputs": [
        {
          "output_type": "execute_result",
          "data": {
            "text/plain": [
              "array(['JAPAN', 'BELARUS', 'ESTONIA', 'CUBA', 'SWITZERLAND', 'LATVIA',\n",
              "       'LITHUANIA', 'KAZAKHSTAN', 'UKRAINE', 'SWEDEN', 'SERBIA',\n",
              "       'RUSSIAN FEDERATION', 'CROATIA', 'FINLAND', 'AUSTRIA', 'DENMARK',\n",
              "       'FRANCE', 'BELGIUM', 'HUNGARY', 'SLOVENIA'], dtype=object)"
            ]
          },
          "metadata": {
            "tags": []
          },
          "execution_count": 57
        }
      ]
    },
    {
      "cell_type": "markdown",
      "metadata": {
        "id": "M7JMNNQWj3p6"
      },
      "source": [
        "## 4. Faixa etária com maior desvio padrão referente a taxa de suícidio"
      ]
    },
    {
      "cell_type": "markdown",
      "metadata": {
        "id": "fJF_2OYW0o-y"
      },
      "source": [
        "Dentre as faixas etárias obtidas no dataset de origem (IHGE), levantamos o desvio padrão da taxa de mortalidade por suicídio em todos o mundo e como podemos avaliar a idade onde há ocorrência maior de suicídio está entre os **idosos.**"
      ]
    },
    {
      "cell_type": "code",
      "metadata": {
        "id": "iM87yJhWj3p9",
        "outputId": "a8df7439-b325-4dd8-ee99-e147c721e22e",
        "colab": {
          "base_uri": "https://localhost:8080/",
          "height": 336
        }
      },
      "source": [
        "print(\"###### Idades - Desvio Padrão #####\")\n",
        "print(ihme_data_country[(ihme_data_country['Age'] != 'All Ages') & (ihme_data_country['Cause_of_Death'] == 'Self-harm') & (ihme_data_country['Sex'] == 'Both')\n",
        "                & (ihme_data_country['Country'].isin(countries_data_quality))]\n",
        "      [['Age','Total']].groupby(['Age'], as_index=True).std())\n",
        "#.plot.bar()"
      ],
      "execution_count": null,
      "outputs": [
        {
          "output_type": "stream",
          "text": [
            "###### Idades - Desvio Padrão #####\n",
            "              Total\n",
            "Age                \n",
            "10 to 14   1.021562\n",
            "15 to 19   5.042456\n",
            "20 to 24   8.720379\n",
            "25 to 29  10.257986\n",
            "30 to 34  11.502541\n",
            "35 to 39  12.810013\n",
            "40 to 44  14.544425\n",
            "45 to 49  16.032684\n",
            "50 to 54  16.636293\n",
            "55 to 59  15.465810\n",
            "60 to 64  12.853309\n",
            "65 to 69  12.393282\n",
            "70 to 74  13.043496\n",
            "75 to 79  14.868889\n",
            "80 plus   20.024698\n"
          ],
          "name": "stdout"
        }
      ]
    },
    {
      "cell_type": "markdown",
      "metadata": {
        "id": "Sa5alnBIj3qI"
      },
      "source": [
        "## 5. Países com maior taxa de suício entre os jovens"
      ]
    },
    {
      "cell_type": "markdown",
      "metadata": {
        "id": "kYWSWVxC5jBs"
      },
      "source": [
        "O suicídio entre os jovens é um assunto muito importante e que merece grande atenção, com este objetivo listamos a baixo os paises com maior número de suicídio entre os jovens (15 a 24 anos) dentre os países com dados considerádos confiáveis pela instituição WHO.\n",
        "\n",
        "Temos a Russia e o Cazaquistão entre os primeiros lugares. "
      ]
    },
    {
      "cell_type": "code",
      "metadata": {
        "id": "LU5F6dx9rLn6",
        "outputId": "459f4d70-c7e8-4a8e-fd7c-79923bcaf6e7",
        "colab": {
          "base_uri": "https://localhost:8080/",
          "height": 402
        }
      },
      "source": [
        "rates_alto_entre_jovens = ihme_data_country[(ihme_data_country['Total'] > 30) \n",
        "          & (ihme_data_country['Year'] > 2000) \n",
        "          & (ihme_data_country['Sex'] == 'Both') \n",
        "          & ((ihme_data_country['Age'] == '15 to 19') | (ihme_data_country['Age'] == '20 to 24'))\n",
        "          & (ihme_data_country['Country'].isin(countries_data_quality))\n",
        "          & (ihme_data_country['Cause_of_Death'] == 'Self-harm')]\n",
        "\n",
        "rates_alto_entre_jovens[['Country','Total']].groupby(['Country'], as_index=True).median().sort_values(by=\"Total\").plot.bar()"
      ],
      "execution_count": null,
      "outputs": [
        {
          "output_type": "execute_result",
          "data": {
            "text/plain": [
              "<matplotlib.axes._subplots.AxesSubplot at 0x7f3545e9bcc0>"
            ]
          },
          "metadata": {
            "tags": []
          },
          "execution_count": 62
        },
        {
          "output_type": "display_data",
          "data": {
            "image/png": "[encoded data removed]",
            "text/plain": [
              "<Figure size 432x288 with 1 Axes>"
            ]
          },
          "metadata": {
            "tags": []
          }
        }
      ]
    },
    {
      "cell_type": "markdown",
      "metadata": {
        "id": "2RtpgSTBkwD3"
      },
      "source": [
        "Ao avaliar todos os dados dos países sem consideração a classificação da confiabilidade dos dados, temos uma lista modificada com a Groenlândia, Ilha Marshall e Kiribati entre os três primeiros países com a taxa mais alta de suicídio entre os jovens."
      ]
    },
    {
      "cell_type": "code",
      "metadata": {
        "id": "Njq8NzVzj3qI",
        "outputId": "55155ac2-e941-4298-e18c-09d4aaac3447",
        "colab": {
          "base_uri": "https://localhost:8080/",
          "height": 392
        }
      },
      "source": [
        "rates_alto_entre_jovens_all = ihme_data_country[(ihme_data_country['Total'] > 36) \n",
        "          & (ihme_data_country['Year'] > 2015) \n",
        "          & (ihme_data_country['Sex'] == 'Both') \n",
        "          & ((ihme_data_country['Age'] == '15 to 19') | (ihme_data_country['Age'] == '20 to 24'))\n",
        "          & (ihme_data_country['Cause_of_Death'] == 'Self-harm')]\n",
        "\n",
        "rates_alto_entre_jovens_all[['Country','Total']].groupby(['Country'], as_index=True).median().sort_values(by=\"Total\").plot.bar()"
      ],
      "execution_count": null,
      "outputs": [
        {
          "output_type": "execute_result",
          "data": {
            "text/plain": [
              "<matplotlib.axes._subplots.AxesSubplot at 0x7f354869a208>"
            ]
          },
          "metadata": {
            "tags": []
          },
          "execution_count": 85
        },
        {
          "output_type": "display_data",
          "data": {
            "image/png": "[encoded data removed]",
            "text/plain": [
              "<Figure size 432x288 with 1 Axes>"
            ]
          },
          "metadata": {
            "tags": []
          }
        }
      ]
    },
    {
      "cell_type": "markdown",
      "metadata": {
        "id": "7zrhbIOmj3qL"
      },
      "source": [
        "## 6. Crescimento do suícidio por faixa etária "
      ]
    },
    {
      "cell_type": "code",
      "metadata": {
        "id": "0UEplazzhFgi",
        "outputId": "46ca96e6-6dc1-4e94-84de-48758222951a",
        "colab": {
          "base_uri": "https://localhost:8080/",
          "height": 315
        }
      },
      "source": [
        "paises_maior_rate_arma_fogo = ihme_data_country[ \n",
        "           (ihme_data_country['Sex'] == 'Both') \n",
        "          & (ihme_data_country['Age'] != 'All Ages')\n",
        "          & (ihme_data_country['Cause_of_Death'] == 'Self-harm')\n",
        "          ]\n",
        "\n",
        "paises_maior_rate_arma_fogo[['Age','Year','Total']].groupby(['Year'], as_index=True).median().sort_values(by=\"Year\").plot.bar()"
      ],
      "execution_count": null,
      "outputs": [
        {
          "output_type": "execute_result",
          "data": {
            "text/plain": [
              "<matplotlib.axes._subplots.AxesSubplot at 0x7f35436ea9e8>"
            ]
          },
          "metadata": {
            "tags": []
          },
          "execution_count": 81
        },
        {
          "output_type": "display_data",
          "data": {
            "image/png": "[encoded data removed]",
            "text/plain": [
              "<Figure size 432x288 with 1 Axes>"
            ]
          },
          "metadata": {
            "tags": []
          }
        }
      ]
    },
    {
      "cell_type": "markdown",
      "metadata": {
        "id": "4QHqjLxGj3qM"
      },
      "source": [
        "## 7. Criar um grafico de barras com a média da taxa de suicídio por idade"
      ]
    },
    {
      "cell_type": "code",
      "metadata": {
        "id": "H_Fp9GnsgwJ5",
        "outputId": "f404b0b5-52b4-4b3b-9db5-8bf204984c6e",
        "colab": {
          "base_uri": "https://localhost:8080/",
          "height": 332
        }
      },
      "source": [
        "paises_maior_rate_arma_fogo = ihme_data_country[ \n",
        "           (ihme_data_country['Sex'] == 'Both') \n",
        "          & (ihme_data_country['Age'] != 'All Ages')\n",
        "          & (ihme_data_country['Cause_of_Death'] == 'Self-harm')\n",
        "          ]\n",
        "\n",
        "paises_maior_rate_arma_fogo[['Age','Total']].groupby(['Age'], as_index=True).median().sort_values(by=\"Total\").plot.bar()"
      ],
      "execution_count": null,
      "outputs": [
        {
          "output_type": "execute_result",
          "data": {
            "text/plain": [
              "<matplotlib.axes._subplots.AxesSubplot at 0x7f354f5da588>"
            ]
          },
          "metadata": {
            "tags": []
          },
          "execution_count": 78
        },
        {
          "output_type": "display_data",
          "data": {
            "image/png": "[encoded data removed]",
            "text/plain": [
              "<Figure size 432x288 with 1 Axes>"
            ]
          },
          "metadata": {
            "tags": []
          }
        }
      ]
    },
    {
      "cell_type": "markdown",
      "metadata": {
        "id": "d2yIV6CJj3qM"
      },
      "source": [
        "## 8. Países com maior número de mortes por arma de fogo (homens e mulheres)"
      ]
    },
    {
      "cell_type": "markdown",
      "metadata": {
        "id": "CJX0vcQ3tC97"
      },
      "source": [
        "Dentre os paises analisados, o top 6 países que detém as maiores taxas de suicídio por arma de fogo no mundo são: **Groelândia, Georgia, Estados Unidos, Uruguai, Finlândia e Suiça.**"
      ]
    },
    {
      "cell_type": "code",
      "metadata": {
        "id": "3YlBVfgYj3qN",
        "outputId": "f76378a0-e473-4241-86fe-b4e92fc25c9e",
        "colab": {
          "base_uri": "https://localhost:8080/",
          "height": 368
        }
      },
      "source": [
        "paises_maior_rate_arma_fogo = ihme_data_country[ \n",
        "           (ihme_data_country['Sex'] == 'Both') \n",
        "          & (ihme_data_country['Age'] == 'All Ages')\n",
        "          & (ihme_data_country['Cause_of_Death'] == 'Self-harm by firearm')\n",
        "          & (ihme_data_country['Total'] > 5)\n",
        "          ]\n",
        "\n",
        "paises_maior_rate_arma_fogo[['Country','Total']].groupby(['Country'], as_index=True).median().sort_values(by=\"Total\").plot.bar()"
      ],
      "execution_count": null,
      "outputs": [
        {
          "output_type": "execute_result",
          "data": {
            "text/plain": [
              "<matplotlib.axes._subplots.AxesSubplot at 0x7f354f5da4e0>"
            ]
          },
          "metadata": {
            "tags": []
          },
          "execution_count": 77
        },
        {
          "output_type": "display_data",
          "data": {
            "image/png": "[encoded data removed]",
            "text/plain": [
              "<Figure size 432x288 with 1 Axes>"
            ]
          },
          "metadata": {
            "tags": []
          }
        }
      ]
    },
    {
      "cell_type": "markdown",
      "metadata": {
        "id": "j-JpXHDJj3qS"
      },
      "source": [
        "## 9. Criar um gráfico de dispersão ref. a dados de clima anuais"
      ]
    },
    {
      "cell_type": "code",
      "metadata": {
        "id": "H7E1m_NXyj3Q",
        "outputId": "34d6efdd-acd6-464a-b3dc-7b0d0a7bedbe",
        "colab": {
          "base_uri": "https://localhost:8080/",
          "height": 330
        }
      },
      "source": [
        "print('Total de Países com valor médio de temperatura: ',ihme_data_country[ihme_data_country['avg_temp'].notnull()].Country.unique().size)\n",
        "print('Faltam: ',ihme_data_country[ihme_data_country['avg_temp'].isnull()].Country.unique().size)\n",
        "\n",
        "import plotly.offline as py\n",
        "import plotly.graph_objs as go\n",
        "py.init_notebook_mode(connected=True)\n",
        "\n",
        "#countries_data_quality\n",
        "\n",
        "scatter_plot = plt.scatter(ihme_data_country['Total'], ihme_data_country['avg_temp'], alpha=0.5,\n",
        "                           c=ihme_data_country['Total'], cmap='viridis')\n",
        "plt.colorbar()  # show color scale\n",
        "plt.xlabel(\"Suicide Rate\")\n",
        "plt.ylabel(\"Average Temperature\");\n",
        "plt.title('Rate Suicidio vs Média Temperatura')\n",
        "plt.autoscale()\n",
        "\n",
        "plt.show()"
      ],
      "execution_count": null,
      "outputs": [
        {
          "output_type": "stream",
          "text": [
            "Total de Países com valor médio de temperatura:  195\n",
            "Faltam:  0\n"
          ],
          "name": "stdout"
        },
        {
          "output_type": "display_data",
          "data": {
            "text/html": [
              "        <script type=\"text/javascript\">\n",
              "        window.PlotlyConfig = {MathJaxConfig: 'local'};\n",
              "        if (window.MathJax) {MathJax.Hub.Config({SVG: {font: \"STIX-Web\"}});}\n",
              "        if (typeof require !== 'undefined') {\n",
              "        require.undef(\"plotly\");\n",
              "        requirejs.config({\n",
              "            paths: {\n",
              "                'plotly': ['https://cdn.plot.ly/plotly-latest.min']\n",
              "            }\n",
              "        });\n",
              "        require(['plotly'], function(Plotly) {\n",
              "            window._Plotly = Plotly;\n",
              "        });\n",
              "        }\n",
              "        </script>\n",
              "        "
            ]
          },
          "metadata": {
            "tags": []
          }
        },
        {
          "output_type": "display_data",
          "data": {
            "image/png": "[encoded data removed]",
            "text/plain": [
              "<Figure size 432x288 with 2 Axes>"
            ]
          },
          "metadata": {
            "tags": []
          }
        }
      ]
    },
    {
      "cell_type": "code",
      "metadata": {
        "id": "ymj3uJBNJefS",
        "outputId": "4ce3746b-856a-4e52-ab7b-acec29199021",
        "colab": {
          "base_uri": "https://localhost:8080/",
          "height": 365
        }
      },
      "source": [
        "print('Cidades com valor médio de temperatura ',ihme_data_city[ihme_data_city['City'].notnull()].Country.unique())\n",
        "print('Cidades com valor médio de temperatura ',ihme_data_city[ihme_data_city['avg_temp'].notnull()].City.unique().size)\n",
        "print('Cidades sem valor médio de temperatura ',ihme_data_city[ihme_data_city['avg_temp'].isnull()].City.unique().size)\n",
        "\n",
        "import plotly.offline as py\n",
        "import plotly.graph_objs as go\n",
        "py.init_notebook_mode(connected=True)\n",
        "\n",
        "scatter_plot = plt.scatter(ihme_data_city['Total'], ihme_data_city['avg_temp'], alpha=0.5,\n",
        "                           c=ihme_data_city['Total'], cmap='viridis')\n",
        "plt.colorbar()  # show color scale\n",
        "plt.xlabel(\"Suicide Rate\")\n",
        "plt.ylabel(\"Average Temperature\");\n",
        "plt.title('Rate Suicidio vs Média Temperatura')\n",
        "plt.autoscale()\n",
        "\n",
        "plt.show()"
      ],
      "execution_count": null,
      "outputs": [
        {
          "output_type": "stream",
          "text": [
            "Cidades com valor médio de temperatura  ['INDONESIA' 'UNITED STATES' 'JAPAN' 'MEXICO' 'BRAZIL' 'UNITED KINGDOM'\n",
            " 'SWEDEN']\n",
            "Cidades com valor médio de temperatura  45\n",
            "Cidades sem valor médio de temperatura  166\n"
          ],
          "name": "stdout"
        },
        {
          "output_type": "display_data",
          "data": {
            "text/html": [
              "        <script type=\"text/javascript\">\n",
              "        window.PlotlyConfig = {MathJaxConfig: 'local'};\n",
              "        if (window.MathJax) {MathJax.Hub.Config({SVG: {font: \"STIX-Web\"}});}\n",
              "        if (typeof require !== 'undefined') {\n",
              "        require.undef(\"plotly\");\n",
              "        requirejs.config({\n",
              "            paths: {\n",
              "                'plotly': ['https://cdn.plot.ly/plotly-latest.min']\n",
              "            }\n",
              "        });\n",
              "        require(['plotly'], function(Plotly) {\n",
              "            window._Plotly = Plotly;\n",
              "        });\n",
              "        }\n",
              "        </script>\n",
              "        "
            ]
          },
          "metadata": {
            "tags": []
          }
        },
        {
          "output_type": "display_data",
          "data": {
            "image/png": "[encoded data removed]",
            "text/plain": [
              "<Figure size 432x288 with 2 Axes>"
            ]
          },
          "metadata": {
            "tags": []
          }
        }
      ]
    },
    {
      "cell_type": "code",
      "metadata": {
        "id": "FMIDIncMUkIP",
        "outputId": "21cfbb3d-5814-4cad-dc3f-235abdeaf450",
        "colab": {
          "base_uri": "https://localhost:8080/",
          "height": 382
        }
      },
      "source": [
        "df = ihme_data_city[(ihme_data_city['Age'] != 'All Ages')\n",
        "                       & (ihme_data_city['Sex'] != 'Both')\n",
        "                       & (ihme_data_city['Cause_of_Death'] != 'Self-harm')\n",
        "                      ]\n",
        " \n",
        "sns.lmplot( x=\"Total\", y=\"avg_temp\", data=df, fit_reg=False, hue='Sex',line_kws={\"color\":\"r\",\"alpha\":0.7,\"lw\":5})\n",
        " \n",
        "plt.xlabel(\"Suicide Rate\")\n",
        "plt.ylabel(\"Average Temperature\");\n",
        "plt.title('Rate Suicidio vs Média Temperatura City')\n",
        "sns.despine(left=True, bottom=True)"
      ],
      "execution_count": null,
      "outputs": [
        {
          "output_type": "display_data",
          "data": {
            "image/png": "[encoded data removed]",
            "text/plain": [
              "<Figure size 432.625x360 with 1 Axes>"
            ]
          },
          "metadata": {
            "tags": []
          }
        }
      ]
    }
  ]
}